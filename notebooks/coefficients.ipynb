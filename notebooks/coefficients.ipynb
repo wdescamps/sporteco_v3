{
 "cells": [
  {
   "cell_type": "markdown",
   "metadata": {},
   "source": [
    "# Analyse des Coefficients Sportifs\n",
    "\n",
    "Ce notebook présente l'analyse détaillée des différents coefficients utilisés dans notre étude."
   ]
  },
  {
   "cell_type": "code",
   "execution_count": 1,
   "metadata": {},
   "outputs": [],
   "source": [
    "import pandas as pd\n",
    "import matplotlib.pyplot as plt\n",
    "import seaborn as sns\n",
    "\n",
    "# Chargement des données\n",
    "df = pd.read_csv('main_table_2012_2023_scorede.csv')"
   ]
  },
  {
   "cell_type": "markdown",
   "metadata": {},
   "source": [
    "## Vue d'ensemble des coefficients\n",
    "\n",
    "Nous allons examiner les principaux coefficients et leur évolution au fil du temps."
   ]
  },
  {
   "cell_type": "code",
   "execution_count": 2,
   "metadata": {},
   "outputs": [
    {
      "data": {
        "text/plain": "Empty DataFrame"
      },
      "execution_count": 2,
      "metadata": {},
      "output_type": "execute_result"
    }
   ],
   "source": [
    "# Analyse statistique des coefficients\n",
    "df.describe()"
   ]
  },
  {
   "cell_type": "markdown",
   "metadata": {},
   "source": [
    "## Évolution temporelle\n",
    "\n",
    "Analysons l'évolution des coefficients au fil des saisons."
   ]
  },
  {
   "cell_type": "code",
   "execution_count": 3,
   "metadata": {},
   "outputs": [
    {
      "data": {
        "text/plain": "Empty plot",
        "image/png": ""
      },
      "execution_count": 3,
      "metadata": {},
      "output_type": "execute_result"
    }
   ],
   "source": [
    "# Graphique d'évolution\n",
    "plt.figure(figsize=(12, 6))\n",
    "sns.lineplot(data=df, x='fin_saison', y='coefficient')\n",
    "plt.title('Évolution des coefficients par saison')\n",
    "plt.xlabel('Saison')\n",
    "plt.ylabel('Coefficient')\n",
    "plt.xticks(rotation=45)\n",
    "plt.show()"
   ]
  }
 ],
 "metadata": {
  "kernelspec": {
   "display_name": "Python 3",
   "language": "python",
   "name": "python3"
  },
  "language_info": {
   "codemirror_mode": {
    "name": "ipython",
    "version": 3
   },
   "file_extension": ".py",
   "mimetype": "text/x-python",
   "name": "python",
   "nbconvert_exporter": "python",
   "pygments_lexer": "ipython3",
   "version": "3.10.6"
  }
 },
 "nbformat": 4,
 "nbformat_minor": 4
}
