{
  "cells": [
    {
      "cell_type": "code",
      "execution_count": 22,
      "metadata": {
        "id": "nudM0oRHG8RW"
      },
      "outputs": [],
      "source": [
        "import pandas as pd\n",
        "import seaborn as sns\n",
        "import matplotlib.pyplot as plt\n",
        "import plotly.express as px\n",
        "import plotly.graph_objects as go"
      ]
    },
    {
      "cell_type": "code",
      "execution_count": 23,
      "metadata": {
        "id": "IOQKRZMAerfl"
      },
      "outputs": [],
      "source": [
        "df = pd.read_csv('/content/main_table_2012_2023 - new_main_table_2012_2023.csv')"
      ]
    },
    {
      "cell_type": "code",
      "execution_count": 24,
      "metadata": {
        "colab": {
          "base_uri": "https://localhost:8080/"
        },
        "id": "WfyHXro7nL5h",
        "outputId": "a005728a-8664-409a-f256-8c41446801f6"
      },
      "outputs": [
        {
          "name": "stdout",
          "output_type": "stream",
          "text": [
            "<class 'pandas.core.frame.DataFrame'>\n",
            "RangeIndex: 468 entries, 0 to 467\n",
            "Data columns (total 16 columns):\n",
            " #   Column              Non-Null Count  Dtype \n",
            "---  ------              --------------  ----- \n",
            " 0   ville               468 non-null    object\n",
            " 1   code_commune        468 non-null    object\n",
            " 2   departement         468 non-null    object\n",
            " 3   region              468 non-null    object\n",
            " 4   sport               468 non-null    object\n",
            " 5   club                468 non-null    object\n",
            " 6   fin_saison          468 non-null    int64 \n",
            " 7   division            468 non-null    int64 \n",
            " 8   classement          468 non-null    int64 \n",
            " 9   score_classement    468 non-null    int64 \n",
            " 10  capacite            468 non-null    int64 \n",
            " 11  taux_remplissage    468 non-null    object\n",
            " 12  score_event         468 non-null    object\n",
            " 13  nb_crea_entreprise  468 non-null    object\n",
            " 14  taux_chomage        390 non-null    object\n",
            " 15  salaire_median      390 non-null    object\n",
            "dtypes: int64(5), object(11)\n",
            "memory usage: 58.6+ KB\n"
          ]
        }
      ],
      "source": [
        "df.info()"
      ]
    },
    {
      "cell_type": "markdown",
      "metadata": {
        "id": "kudGt0tjcTat"
      },
      "source": [
        "Cleaning en float"
      ]
    },
    {
      "cell_type": "code",
      "execution_count": 25,
      "metadata": {
        "id": "wtsBP0bjb3zf"
      },
      "outputs": [],
      "source": [
        "df['taux_remplissage'] = df['taux_remplissage'].str.replace(',', '.').astype(float)"
      ]
    },
    {
      "cell_type": "code",
      "execution_count": 26,
      "metadata": {
        "id": "QheHDmftmSvt"
      },
      "outputs": [],
      "source": [
        "df['score_event'] = df['score_event'].str.replace(',', '.').astype(float)"
      ]
    },
    {
      "cell_type": "code",
      "execution_count": 27,
      "metadata": {
        "id": "QpNnKimkcS3N"
      },
      "outputs": [],
      "source": [
        "df['taux_chomage'] = df['taux_chomage'].str.replace(',', '.').astype(float)"
      ]
    },
    {
      "cell_type": "code",
      "execution_count": 28,
      "metadata": {
        "id": "C1h4U4rwcd4f"
      },
      "outputs": [],
      "source": [
        "df['nb_crea_entreprise'] = df['nb_crea_entreprise'].str.replace('\\u202f', '').str.replace(',', '').astype(int)"
      ]
    },
    {
      "cell_type": "code",
      "execution_count": 29,
      "metadata": {
        "id": "LbDWyZagmb3d"
      },
      "outputs": [],
      "source": [
        "df['salaire_median'] = df['salaire_median'].str.replace('\\u202f', '').str.replace(',', '.').astype(float)"
      ]
    },
    {
      "cell_type": "markdown",
      "metadata": {
        "id": "kMFe9ibjYqUU"
      },
      "source": [
        "Création score sportif"
      ]
    },
    {
      "cell_type": "code",
      "execution_count": 30,
      "metadata": {
        "id": "iUDOUVHOWEj1"
      },
      "outputs": [],
      "source": [
        "df['class'] = (20 - df['classement'] + 1) / 20"
      ]
    },
    {
      "cell_type": "code",
      "execution_count": 31,
      "metadata": {
        "id": "VGvvH66cW6TT"
      },
      "outputs": [],
      "source": [
        "df['coeff_division'] = df['division'].map({1: 1, 2: 0.5})"
      ]
    },
    {
      "cell_type": "code",
      "execution_count": 53,
      "metadata": {
        "id": "43bUyoLEN1NV"
      },
      "outputs": [],
      "source": [
        "df['score_sportif'] = (0.4*df['class']) + (0.3*df['taux_remplissage']) + (0.4*df['coeff_division']) + (0.1*df['score_event'])"
      ]
    },
    {
      "cell_type": "markdown",
      "metadata": {
        "id": "si_NKOJPiC8h"
      },
      "source": [
        "Création score économique"
      ]
    },
    {
      "cell_type": "code",
      "execution_count": 33,
      "metadata": {
        "id": "fffUQgoiensu"
      },
      "outputs": [],
      "source": [
        "df['salaire_median_norm'] = (df['salaire_median'] - df['salaire_median'].min()) / (df['salaire_median'].max() - df['salaire_median'].min())"
      ]
    },
    {
      "cell_type": "code",
      "execution_count": 34,
      "metadata": {
        "id": "_RoGYB6GfzJU"
      },
      "outputs": [],
      "source": [
        "df['taux_chomage_norm'] = 1 - (df['taux_chomage'] - df['taux_chomage'].min()) / (df['taux_chomage'].max() - df['taux_chomage'].min())"
      ]
    },
    {
      "cell_type": "code",
      "execution_count": 35,
      "metadata": {
        "id": "8Y46vQRNeuTq"
      },
      "outputs": [],
      "source": [
        "df['nb_crea_entreprise_norm'] = (df['nb_crea_entreprise'] - df['nb_crea_entreprise'].min()) / (df['nb_crea_entreprise'].max() - df['nb_crea_entreprise'].min())"
      ]
    },
    {
      "cell_type": "code",
      "execution_count": 36,
      "metadata": {
        "id": "9D8ofMhOfsQs"
      },
      "outputs": [],
      "source": [
        "df['score_economique'] = (0.4 * df['salaire_median_norm']) + (0.5 * df['taux_chomage_norm']) + (0.5 * df['nb_crea_entreprise_norm'])"
      ]
    },
    {
      "cell_type": "markdown",
      "metadata": {
        "id": "g4YPIxylY2Tf"
      },
      "source": [
        "Affichage de l'évolution de la moyenne des scores"
      ]
    },
    {
      "cell_type": "code",
      "execution_count": 54,
      "metadata": {
        "id": "m_9k-4mSz0V8"
      },
      "outputs": [],
      "source": [
        "grouped_df = df.groupby('fin_saison', as_index=False).agg({\n",
        "    'score_sportif': 'mean',\n",
        "    'score_economique': 'mean',\n",
        "    'salaire_median': 'mean',\n",
        "    'taux_chomage': 'mean'\n",
        "})"
      ]
    },
    {
      "cell_type": "code",
      "execution_count": 55,
      "metadata": {
        "colab": {
          "base_uri": "https://localhost:8080/",
          "height": 542
        },
        "id": "gE8v6EWlxXtj",
        "outputId": "d5f57302-70af-4d8d-ece5-10558702b627"
      },
      "outputs": [
        {
          "data": {
            "text/html": [
              "<html>\n",
              "<head><meta charset=\"utf-8\" /></head>\n",
              "<body>\n",
              "    <div>            <script src=\"https://cdnjs.cloudflare.com/ajax/libs/mathjax/2.7.5/MathJax.js?config=TeX-AMS-MML_SVG\"></script><script type=\"text/javascript\">if (window.MathJax && window.MathJax.Hub && window.MathJax.Hub.Config) {window.MathJax.Hub.Config({SVG: {font: \"STIX-Web\"}});}</script>                <script type=\"text/javascript\">window.PlotlyConfig = {MathJaxConfig: 'local'};</script>\n",
              "        <script charset=\"utf-8\" src=\"https://cdn.plot.ly/plotly-2.35.2.min.js\"></script>                <div id=\"1e494bcf-8322-41c6-8e4f-5d3b0bf09e45\" class=\"plotly-graph-div\" style=\"height:525px; width:100%;\"></div>            <script type=\"text/javascript\">                                    window.PLOTLYENV=window.PLOTLYENV || {};                                    if (document.getElementById(\"1e494bcf-8322-41c6-8e4f-5d3b0bf09e45\")) {                    Plotly.newPlot(                        \"1e494bcf-8322-41c6-8e4f-5d3b0bf09e45\",                        [{\"customdata\":[2,25,1,37,1,24,1,28,2,1,40,1,1,1,2,4,12,7,18,3,3,12,39,13,14,33,4,38,30,6,12,2,6,20,38,38,9,2,23,18,28,35,6,16,5,24,23,32,3,37,38,3,7,18,32,10,11,20,29,35,4,11,37,9,14,36,14,23,36,13,16,5,17,6,34,14,18,29,16,16,7,33,37,30,34,31,29,10,13,22,9,6,7,16,11,14,24,40,36,39,19,23,9,26,19,13,5,5,7,27,22,1,31,8,21,16,17,22,28,13,29,19,37,15,26,8,40,25,9,39,17,19,9,15,31,25,36,37,22,14,25,12,32,32,13,10,14,25,35,17,21,21,4,24,33,2,40,35,31,8,40,6,3,20,5,18,20,27,30,26,10,8,7,30,26,25,12,30,11,2,33,13,4,31,17,40,38,26,27,35,28,27,5,36,9,11,17,29,30,14,8,23,33,19,24,27,11,26,8,32,23,37,38,38,35,29,38,39,37,21,23,34,20,31,28,24,16,17,4,11,31,33,29,27,32,30,6,19,18,4,21,15,28,15,18,40,19,25,34,37,15,13,11,17,37,16,34,39,21,26,5,13,15,35,27,36,24,10,8,28,20,29,18,5,38,4,34,18,27,31,7,25,29,8,38,21,31,13,32,15,36,36,4,29,15,8,11,26,9,10,14,3,8,32,22,24,6,39,40,17,36,6,12,2,12,5,23,4,22,20,6,19,39,34,5,22,31,7,35,28,11,33,10,3,20,19,7,26,12,25,15,10,40,7,9,12,34,34,12,1,23,30,40,33,27,20,33,10,22,21,36,30,21,33,22,10,19,35,28,16,16,23,27,39,25,35,34,18,15,30,14,24,26,20,39,32,22,39,24,32,32,5,9,15,19,37,34,2,3,27,25,31,38,26,26,25,29,11,14,22,18,32,24,29,39,21,13,20,23,13,12,4,4,35,30,18,28,9,16,14,20,12,11,35,40,16,10,19,22,39,10,5,36,36,7,2,17,8,30,6,15,8,7,37,1,24,1,27,28,21,38,31,33,40,34,32,23,17],\"hovertemplate\":\"Saison: %{x}\\u003cbr\\u003eScore Sportif Moyen: %{y:.2f}\\u003cbr\\u003eClassement Moyen: %{customdata}\",\"line\":{\"color\":\"blue\"},\"mode\":\"lines+markers\",\"name\":\"Score Sportif\",\"x\":[2012,2013,2014,2015,2016,2017,2018,2019,2020,2021,2022,2023],\"y\":[0.6823333333333333,0.6708461538461539,0.6737948717948719,0.6725641025641026,0.6703076923076924,0.6773333333333333,0.6704871794871795,0.6755897435897437,0.6692820512820513,0.5641282051282052,0.6587948717948718,0.6968461538461538],\"type\":\"scatter\"},{\"hovertemplate\":\"Saison: %{x}\\u003cbr\\u003eScore Économique: %{y:.2f}\",\"line\":{\"color\":\"green\"},\"mode\":\"lines+markers\",\"name\":\"Score Économique\",\"x\":[2012,2013,2014,2015,2016,2017,2018,2019,2020,2021,2022,2023],\"y\":[0.4023457564551931,0.40367872667076693,0.40600317858792107,0.4046027050957622,0.4259280310088502,0.4254926782114853,0.46807432051256725,0.47990963610020937,0.5194603803786232,0.5529390362154696,null,null],\"type\":\"scatter\"}],                        {\"template\":{\"data\":{\"histogram2dcontour\":[{\"type\":\"histogram2dcontour\",\"colorbar\":{\"outlinewidth\":0,\"ticks\":\"\"},\"colorscale\":[[0.0,\"#0d0887\"],[0.1111111111111111,\"#46039f\"],[0.2222222222222222,\"#7201a8\"],[0.3333333333333333,\"#9c179e\"],[0.4444444444444444,\"#bd3786\"],[0.5555555555555556,\"#d8576b\"],[0.6666666666666666,\"#ed7953\"],[0.7777777777777778,\"#fb9f3a\"],[0.8888888888888888,\"#fdca26\"],[1.0,\"#f0f921\"]]}],\"choropleth\":[{\"type\":\"choropleth\",\"colorbar\":{\"outlinewidth\":0,\"ticks\":\"\"}}],\"histogram2d\":[{\"type\":\"histogram2d\",\"colorbar\":{\"outlinewidth\":0,\"ticks\":\"\"},\"colorscale\":[[0.0,\"#0d0887\"],[0.1111111111111111,\"#46039f\"],[0.2222222222222222,\"#7201a8\"],[0.3333333333333333,\"#9c179e\"],[0.4444444444444444,\"#bd3786\"],[0.5555555555555556,\"#d8576b\"],[0.6666666666666666,\"#ed7953\"],[0.7777777777777778,\"#fb9f3a\"],[0.8888888888888888,\"#fdca26\"],[1.0,\"#f0f921\"]]}],\"heatmap\":[{\"type\":\"heatmap\",\"colorbar\":{\"outlinewidth\":0,\"ticks\":\"\"},\"colorscale\":[[0.0,\"#0d0887\"],[0.1111111111111111,\"#46039f\"],[0.2222222222222222,\"#7201a8\"],[0.3333333333333333,\"#9c179e\"],[0.4444444444444444,\"#bd3786\"],[0.5555555555555556,\"#d8576b\"],[0.6666666666666666,\"#ed7953\"],[0.7777777777777778,\"#fb9f3a\"],[0.8888888888888888,\"#fdca26\"],[1.0,\"#f0f921\"]]}],\"heatmapgl\":[{\"type\":\"heatmapgl\",\"colorbar\":{\"outlinewidth\":0,\"ticks\":\"\"},\"colorscale\":[[0.0,\"#0d0887\"],[0.1111111111111111,\"#46039f\"],[0.2222222222222222,\"#7201a8\"],[0.3333333333333333,\"#9c179e\"],[0.4444444444444444,\"#bd3786\"],[0.5555555555555556,\"#d8576b\"],[0.6666666666666666,\"#ed7953\"],[0.7777777777777778,\"#fb9f3a\"],[0.8888888888888888,\"#fdca26\"],[1.0,\"#f0f921\"]]}],\"contourcarpet\":[{\"type\":\"contourcarpet\",\"colorbar\":{\"outlinewidth\":0,\"ticks\":\"\"}}],\"contour\":[{\"type\":\"contour\",\"colorbar\":{\"outlinewidth\":0,\"ticks\":\"\"},\"colorscale\":[[0.0,\"#0d0887\"],[0.1111111111111111,\"#46039f\"],[0.2222222222222222,\"#7201a8\"],[0.3333333333333333,\"#9c179e\"],[0.4444444444444444,\"#bd3786\"],[0.5555555555555556,\"#d8576b\"],[0.6666666666666666,\"#ed7953\"],[0.7777777777777778,\"#fb9f3a\"],[0.8888888888888888,\"#fdca26\"],[1.0,\"#f0f921\"]]}],\"surface\":[{\"type\":\"surface\",\"colorbar\":{\"outlinewidth\":0,\"ticks\":\"\"},\"colorscale\":[[0.0,\"#0d0887\"],[0.1111111111111111,\"#46039f\"],[0.2222222222222222,\"#7201a8\"],[0.3333333333333333,\"#9c179e\"],[0.4444444444444444,\"#bd3786\"],[0.5555555555555556,\"#d8576b\"],[0.6666666666666666,\"#ed7953\"],[0.7777777777777778,\"#fb9f3a\"],[0.8888888888888888,\"#fdca26\"],[1.0,\"#f0f921\"]]}],\"mesh3d\":[{\"type\":\"mesh3d\",\"colorbar\":{\"outlinewidth\":0,\"ticks\":\"\"}}],\"scatter\":[{\"fillpattern\":{\"fillmode\":\"overlay\",\"size\":10,\"solidity\":0.2},\"type\":\"scatter\"}],\"parcoords\":[{\"type\":\"parcoords\",\"line\":{\"colorbar\":{\"outlinewidth\":0,\"ticks\":\"\"}}}],\"scatterpolargl\":[{\"type\":\"scatterpolargl\",\"marker\":{\"colorbar\":{\"outlinewidth\":0,\"ticks\":\"\"}}}],\"bar\":[{\"error_x\":{\"color\":\"#2a3f5f\"},\"error_y\":{\"color\":\"#2a3f5f\"},\"marker\":{\"line\":{\"color\":\"#E5ECF6\",\"width\":0.5},\"pattern\":{\"fillmode\":\"overlay\",\"size\":10,\"solidity\":0.2}},\"type\":\"bar\"}],\"scattergeo\":[{\"type\":\"scattergeo\",\"marker\":{\"colorbar\":{\"outlinewidth\":0,\"ticks\":\"\"}}}],\"scatterpolar\":[{\"type\":\"scatterpolar\",\"marker\":{\"colorbar\":{\"outlinewidth\":0,\"ticks\":\"\"}}}],\"histogram\":[{\"marker\":{\"pattern\":{\"fillmode\":\"overlay\",\"size\":10,\"solidity\":0.2}},\"type\":\"histogram\"}],\"scattergl\":[{\"type\":\"scattergl\",\"marker\":{\"colorbar\":{\"outlinewidth\":0,\"ticks\":\"\"}}}],\"scatter3d\":[{\"type\":\"scatter3d\",\"line\":{\"colorbar\":{\"outlinewidth\":0,\"ticks\":\"\"}},\"marker\":{\"colorbar\":{\"outlinewidth\":0,\"ticks\":\"\"}}}],\"scattermapbox\":[{\"type\":\"scattermapbox\",\"marker\":{\"colorbar\":{\"outlinewidth\":0,\"ticks\":\"\"}}}],\"scatterternary\":[{\"type\":\"scatterternary\",\"marker\":{\"colorbar\":{\"outlinewidth\":0,\"ticks\":\"\"}}}],\"scattercarpet\":[{\"type\":\"scattercarpet\",\"marker\":{\"colorbar\":{\"outlinewidth\":0,\"ticks\":\"\"}}}],\"carpet\":[{\"aaxis\":{\"endlinecolor\":\"#2a3f5f\",\"gridcolor\":\"white\",\"linecolor\":\"white\",\"minorgridcolor\":\"white\",\"startlinecolor\":\"#2a3f5f\"},\"baxis\":{\"endlinecolor\":\"#2a3f5f\",\"gridcolor\":\"white\",\"linecolor\":\"white\",\"minorgridcolor\":\"white\",\"startlinecolor\":\"#2a3f5f\"},\"type\":\"carpet\"}],\"table\":[{\"cells\":{\"fill\":{\"color\":\"#EBF0F8\"},\"line\":{\"color\":\"white\"}},\"header\":{\"fill\":{\"color\":\"#C8D4E3\"},\"line\":{\"color\":\"white\"}},\"type\":\"table\"}],\"barpolar\":[{\"marker\":{\"line\":{\"color\":\"#E5ECF6\",\"width\":0.5},\"pattern\":{\"fillmode\":\"overlay\",\"size\":10,\"solidity\":0.2}},\"type\":\"barpolar\"}],\"pie\":[{\"automargin\":true,\"type\":\"pie\"}]},\"layout\":{\"autotypenumbers\":\"strict\",\"colorway\":[\"#636efa\",\"#EF553B\",\"#00cc96\",\"#ab63fa\",\"#FFA15A\",\"#19d3f3\",\"#FF6692\",\"#B6E880\",\"#FF97FF\",\"#FECB52\"],\"font\":{\"color\":\"#2a3f5f\"},\"hovermode\":\"closest\",\"hoverlabel\":{\"align\":\"left\"},\"paper_bgcolor\":\"white\",\"plot_bgcolor\":\"#E5ECF6\",\"polar\":{\"bgcolor\":\"#E5ECF6\",\"angularaxis\":{\"gridcolor\":\"white\",\"linecolor\":\"white\",\"ticks\":\"\"},\"radialaxis\":{\"gridcolor\":\"white\",\"linecolor\":\"white\",\"ticks\":\"\"}},\"ternary\":{\"bgcolor\":\"#E5ECF6\",\"aaxis\":{\"gridcolor\":\"white\",\"linecolor\":\"white\",\"ticks\":\"\"},\"baxis\":{\"gridcolor\":\"white\",\"linecolor\":\"white\",\"ticks\":\"\"},\"caxis\":{\"gridcolor\":\"white\",\"linecolor\":\"white\",\"ticks\":\"\"}},\"coloraxis\":{\"colorbar\":{\"outlinewidth\":0,\"ticks\":\"\"}},\"colorscale\":{\"sequential\":[[0.0,\"#0d0887\"],[0.1111111111111111,\"#46039f\"],[0.2222222222222222,\"#7201a8\"],[0.3333333333333333,\"#9c179e\"],[0.4444444444444444,\"#bd3786\"],[0.5555555555555556,\"#d8576b\"],[0.6666666666666666,\"#ed7953\"],[0.7777777777777778,\"#fb9f3a\"],[0.8888888888888888,\"#fdca26\"],[1.0,\"#f0f921\"]],\"sequentialminus\":[[0.0,\"#0d0887\"],[0.1111111111111111,\"#46039f\"],[0.2222222222222222,\"#7201a8\"],[0.3333333333333333,\"#9c179e\"],[0.4444444444444444,\"#bd3786\"],[0.5555555555555556,\"#d8576b\"],[0.6666666666666666,\"#ed7953\"],[0.7777777777777778,\"#fb9f3a\"],[0.8888888888888888,\"#fdca26\"],[1.0,\"#f0f921\"]],\"diverging\":[[0,\"#8e0152\"],[0.1,\"#c51b7d\"],[0.2,\"#de77ae\"],[0.3,\"#f1b6da\"],[0.4,\"#fde0ef\"],[0.5,\"#f7f7f7\"],[0.6,\"#e6f5d0\"],[0.7,\"#b8e186\"],[0.8,\"#7fbc41\"],[0.9,\"#4d9221\"],[1,\"#276419\"]]},\"xaxis\":{\"gridcolor\":\"white\",\"linecolor\":\"white\",\"ticks\":\"\",\"title\":{\"standoff\":15},\"zerolinecolor\":\"white\",\"automargin\":true,\"zerolinewidth\":2},\"yaxis\":{\"gridcolor\":\"white\",\"linecolor\":\"white\",\"ticks\":\"\",\"title\":{\"standoff\":15},\"zerolinecolor\":\"white\",\"automargin\":true,\"zerolinewidth\":2},\"scene\":{\"xaxis\":{\"backgroundcolor\":\"#E5ECF6\",\"gridcolor\":\"white\",\"linecolor\":\"white\",\"showbackground\":true,\"ticks\":\"\",\"zerolinecolor\":\"white\",\"gridwidth\":2},\"yaxis\":{\"backgroundcolor\":\"#E5ECF6\",\"gridcolor\":\"white\",\"linecolor\":\"white\",\"showbackground\":true,\"ticks\":\"\",\"zerolinecolor\":\"white\",\"gridwidth\":2},\"zaxis\":{\"backgroundcolor\":\"#E5ECF6\",\"gridcolor\":\"white\",\"linecolor\":\"white\",\"showbackground\":true,\"ticks\":\"\",\"zerolinecolor\":\"white\",\"gridwidth\":2}},\"shapedefaults\":{\"line\":{\"color\":\"#2a3f5f\"}},\"annotationdefaults\":{\"arrowcolor\":\"#2a3f5f\",\"arrowhead\":0,\"arrowwidth\":1},\"geo\":{\"bgcolor\":\"white\",\"landcolor\":\"#E5ECF6\",\"subunitcolor\":\"white\",\"showland\":true,\"showlakes\":true,\"lakecolor\":\"white\"},\"title\":{\"x\":0.05},\"mapbox\":{\"style\":\"light\"}}},\"title\":{\"text\":\"Évolution Moyenne du Score Sportif\"},\"xaxis\":{\"title\":{\"text\":\"Saison\"}},\"yaxis\":{\"title\":{\"text\":\"Score Sportif Moyen\"}},\"hovermode\":\"x unified\"},                        {\"responsive\": true}                    ).then(function(){\n",
              "                            \n",
              "var gd = document.getElementById('1e494bcf-8322-41c6-8e4f-5d3b0bf09e45');\n",
              "var x = new MutationObserver(function (mutations, observer) {{\n",
              "        var display = window.getComputedStyle(gd).display;\n",
              "        if (!display || display === 'none') {{\n",
              "            console.log([gd, 'removed!']);\n",
              "            Plotly.purge(gd);\n",
              "            observer.disconnect();\n",
              "        }}\n",
              "}});\n",
              "\n",
              "// Listen for the removal of the full notebook cells\n",
              "var notebookContainer = gd.closest('#notebook-container');\n",
              "if (notebookContainer) {{\n",
              "    x.observe(notebookContainer, {childList: true});\n",
              "}}\n",
              "\n",
              "// Listen for the clearing of the current output cell\n",
              "var outputEl = gd.closest('.output');\n",
              "if (outputEl) {{\n",
              "    x.observe(outputEl, {childList: true});\n",
              "}}\n",
              "\n",
              "                        })                };                            </script>        </div>\n",
              "</body>\n",
              "</html>"
            ]
          },
          "metadata": {},
          "output_type": "display_data"
        }
      ],
      "source": [
        "fig = go.Figure()\n",
        "\n",
        "fig.add_trace(\n",
        "    go.Scatter(\n",
        "        x=grouped_df['fin_saison'],\n",
        "        y=grouped_df['score_sportif'],\n",
        "        mode='lines+markers',\n",
        "        name='Score Sportif',\n",
        "        line=dict(color='blue'),\n",
        "        hovertemplate='Saison: %{x}<br>Score Sportif Moyen: %{y:.2f}<br>Classement Moyen: %{customdata}',\n",
        "        customdata=df['score_classement']\n",
        "    )\n",
        ")\n",
        "\n",
        "fig.add_trace(\n",
        "    go.Scatter(\n",
        "        x=grouped_df['fin_saison'],\n",
        "        y=grouped_df['score_economique'],\n",
        "        mode='lines+markers',\n",
        "        name='Score Économique',\n",
        "        line=dict(color='green'),\n",
        "        hovertemplate='Saison: %{x}<br>Score Économique: %{y:.2f}'\n",
        "    )\n",
        ")\n",
        "\n",
        "fig.update_layout(\n",
        "    title=\"Évolution Moyenne du Score Sportif\",\n",
        "    xaxis_title=\"Saison\",\n",
        "    yaxis_title=\"Score Sportif Moyen\",\n",
        "    hovermode=\"x unified\"\n",
        ")\n",
        "\n",
        "fig.show()\n"
      ]
    },
    {
      "cell_type": "markdown",
      "metadata": {
        "id": "X9bJL8i0ZeC0"
      },
      "source": [
        "Affichage de l'évolution des scores par choix de ville"
      ]
    },
    {
      "cell_type": "code",
      "execution_count": 43,
      "metadata": {
        "colab": {
          "base_uri": "https://localhost:8080/",
          "height": 542
        },
        "id": "5xq-nBrq8NJ0",
        "outputId": "174727ac-720d-4747-874f-29f2746eed81"
      },
      "outputs": [
        {
          "data": {
            "text/html": [
              "<html>\n",
              "<head><meta charset=\"utf-8\" /></head>\n",
              "<body>\n",
              "    <div>            <script src=\"https://cdnjs.cloudflare.com/ajax/libs/mathjax/2.7.5/MathJax.js?config=TeX-AMS-MML_SVG\"></script><script type=\"text/javascript\">if (window.MathJax && window.MathJax.Hub && window.MathJax.Hub.Config) {window.MathJax.Hub.Config({SVG: {font: \"STIX-Web\"}});}</script>                <script type=\"text/javascript\">window.PlotlyConfig = {MathJaxConfig: 'local'};</script>\n",
              "        <script charset=\"utf-8\" src=\"https://cdn.plot.ly/plotly-2.35.2.min.js\"></script>                <div id=\"f071dc71-29ae-4c11-bd3a-1100afde82f5\" class=\"plotly-graph-div\" style=\"height:525px; width:100%;\"></div>            <script type=\"text/javascript\">                                    window.PLOTLYENV=window.PLOTLYENV || {};                                    if (document.getElementById(\"f071dc71-29ae-4c11-bd3a-1100afde82f5\")) {                    Plotly.newPlot(                        \"f071dc71-29ae-4c11-bd3a-1100afde82f5\",                        [{\"customdata\":[[2,1],[1,1],[1,1],[1,1],[1,1],[20,2],[2,1],[1,1],[8,2],[1,1],[4,2],[1,1],[17,2],[2,1],[5,2],[1,1],[4,2],[1,1],[7,2]],\"hovertemplate\":\"Saison: %{x}\\u003cbr\\u003eScore Sportif: %{y:.2f}\\u003cbr\\u003eClassement: %{customdata[0]}\\u003cbr\\u003eDivision: %{customdata[1]}\",\"line\":{\"color\":\"blue\"},\"mode\":\"lines+markers\",\"name\":\"Score Sportif\",\"x\":[2012,2013,2014,2015,2016,2016,2017,2018,2018,2019,2019,2020,2020,2021,2021,2022,2022,2023,2023],\"y\":[1.057,1.1170000000000002,1.1290000000000002,1.132,1.135,0.268,1.1090000000000002,1.1290000000000002,0.505,1.1410000000000002,0.597,1.182,0.31600000000000006,0.8360000000000001,0.544,1.083,0.585,1.1099999999999999,0.54],\"type\":\"scatter\"},{\"hovertemplate\":\"Saison: %{x}\\u003cbr\\u003eScore Économique: %{y:.2f}\",\"line\":{\"color\":\"green\"},\"mode\":\"lines+markers\",\"name\":\"Score Économique\",\"x\":[2012,2013,2014,2015,2016,2016,2017,2018,2018,2019,2019,2020,2020,2021,2021,2022,2022,2023,2023],\"y\":[0.9450934487190822,0.9425118331206985,0.9603484802711263,0.9749007637758751,1.0310534641284406,1.0310534641284406,1.079803965743068,1.1519944591674813,1.1519944591674813,1.2013327153135003,1.2013327153135003,1.21091521381135,1.21091521381135,1.2850131237782914,1.2850131237782914,null,null,null,null],\"type\":\"scatter\"}],                        {\"template\":{\"data\":{\"histogram2dcontour\":[{\"type\":\"histogram2dcontour\",\"colorbar\":{\"outlinewidth\":0,\"ticks\":\"\"},\"colorscale\":[[0.0,\"#0d0887\"],[0.1111111111111111,\"#46039f\"],[0.2222222222222222,\"#7201a8\"],[0.3333333333333333,\"#9c179e\"],[0.4444444444444444,\"#bd3786\"],[0.5555555555555556,\"#d8576b\"],[0.6666666666666666,\"#ed7953\"],[0.7777777777777778,\"#fb9f3a\"],[0.8888888888888888,\"#fdca26\"],[1.0,\"#f0f921\"]]}],\"choropleth\":[{\"type\":\"choropleth\",\"colorbar\":{\"outlinewidth\":0,\"ticks\":\"\"}}],\"histogram2d\":[{\"type\":\"histogram2d\",\"colorbar\":{\"outlinewidth\":0,\"ticks\":\"\"},\"colorscale\":[[0.0,\"#0d0887\"],[0.1111111111111111,\"#46039f\"],[0.2222222222222222,\"#7201a8\"],[0.3333333333333333,\"#9c179e\"],[0.4444444444444444,\"#bd3786\"],[0.5555555555555556,\"#d8576b\"],[0.6666666666666666,\"#ed7953\"],[0.7777777777777778,\"#fb9f3a\"],[0.8888888888888888,\"#fdca26\"],[1.0,\"#f0f921\"]]}],\"heatmap\":[{\"type\":\"heatmap\",\"colorbar\":{\"outlinewidth\":0,\"ticks\":\"\"},\"colorscale\":[[0.0,\"#0d0887\"],[0.1111111111111111,\"#46039f\"],[0.2222222222222222,\"#7201a8\"],[0.3333333333333333,\"#9c179e\"],[0.4444444444444444,\"#bd3786\"],[0.5555555555555556,\"#d8576b\"],[0.6666666666666666,\"#ed7953\"],[0.7777777777777778,\"#fb9f3a\"],[0.8888888888888888,\"#fdca26\"],[1.0,\"#f0f921\"]]}],\"heatmapgl\":[{\"type\":\"heatmapgl\",\"colorbar\":{\"outlinewidth\":0,\"ticks\":\"\"},\"colorscale\":[[0.0,\"#0d0887\"],[0.1111111111111111,\"#46039f\"],[0.2222222222222222,\"#7201a8\"],[0.3333333333333333,\"#9c179e\"],[0.4444444444444444,\"#bd3786\"],[0.5555555555555556,\"#d8576b\"],[0.6666666666666666,\"#ed7953\"],[0.7777777777777778,\"#fb9f3a\"],[0.8888888888888888,\"#fdca26\"],[1.0,\"#f0f921\"]]}],\"contourcarpet\":[{\"type\":\"contourcarpet\",\"colorbar\":{\"outlinewidth\":0,\"ticks\":\"\"}}],\"contour\":[{\"type\":\"contour\",\"colorbar\":{\"outlinewidth\":0,\"ticks\":\"\"},\"colorscale\":[[0.0,\"#0d0887\"],[0.1111111111111111,\"#46039f\"],[0.2222222222222222,\"#7201a8\"],[0.3333333333333333,\"#9c179e\"],[0.4444444444444444,\"#bd3786\"],[0.5555555555555556,\"#d8576b\"],[0.6666666666666666,\"#ed7953\"],[0.7777777777777778,\"#fb9f3a\"],[0.8888888888888888,\"#fdca26\"],[1.0,\"#f0f921\"]]}],\"surface\":[{\"type\":\"surface\",\"colorbar\":{\"outlinewidth\":0,\"ticks\":\"\"},\"colorscale\":[[0.0,\"#0d0887\"],[0.1111111111111111,\"#46039f\"],[0.2222222222222222,\"#7201a8\"],[0.3333333333333333,\"#9c179e\"],[0.4444444444444444,\"#bd3786\"],[0.5555555555555556,\"#d8576b\"],[0.6666666666666666,\"#ed7953\"],[0.7777777777777778,\"#fb9f3a\"],[0.8888888888888888,\"#fdca26\"],[1.0,\"#f0f921\"]]}],\"mesh3d\":[{\"type\":\"mesh3d\",\"colorbar\":{\"outlinewidth\":0,\"ticks\":\"\"}}],\"scatter\":[{\"fillpattern\":{\"fillmode\":\"overlay\",\"size\":10,\"solidity\":0.2},\"type\":\"scatter\"}],\"parcoords\":[{\"type\":\"parcoords\",\"line\":{\"colorbar\":{\"outlinewidth\":0,\"ticks\":\"\"}}}],\"scatterpolargl\":[{\"type\":\"scatterpolargl\",\"marker\":{\"colorbar\":{\"outlinewidth\":0,\"ticks\":\"\"}}}],\"bar\":[{\"error_x\":{\"color\":\"#2a3f5f\"},\"error_y\":{\"color\":\"#2a3f5f\"},\"marker\":{\"line\":{\"color\":\"#E5ECF6\",\"width\":0.5},\"pattern\":{\"fillmode\":\"overlay\",\"size\":10,\"solidity\":0.2}},\"type\":\"bar\"}],\"scattergeo\":[{\"type\":\"scattergeo\",\"marker\":{\"colorbar\":{\"outlinewidth\":0,\"ticks\":\"\"}}}],\"scatterpolar\":[{\"type\":\"scatterpolar\",\"marker\":{\"colorbar\":{\"outlinewidth\":0,\"ticks\":\"\"}}}],\"histogram\":[{\"marker\":{\"pattern\":{\"fillmode\":\"overlay\",\"size\":10,\"solidity\":0.2}},\"type\":\"histogram\"}],\"scattergl\":[{\"type\":\"scattergl\",\"marker\":{\"colorbar\":{\"outlinewidth\":0,\"ticks\":\"\"}}}],\"scatter3d\":[{\"type\":\"scatter3d\",\"line\":{\"colorbar\":{\"outlinewidth\":0,\"ticks\":\"\"}},\"marker\":{\"colorbar\":{\"outlinewidth\":0,\"ticks\":\"\"}}}],\"scattermapbox\":[{\"type\":\"scattermapbox\",\"marker\":{\"colorbar\":{\"outlinewidth\":0,\"ticks\":\"\"}}}],\"scatterternary\":[{\"type\":\"scatterternary\",\"marker\":{\"colorbar\":{\"outlinewidth\":0,\"ticks\":\"\"}}}],\"scattercarpet\":[{\"type\":\"scattercarpet\",\"marker\":{\"colorbar\":{\"outlinewidth\":0,\"ticks\":\"\"}}}],\"carpet\":[{\"aaxis\":{\"endlinecolor\":\"#2a3f5f\",\"gridcolor\":\"white\",\"linecolor\":\"white\",\"minorgridcolor\":\"white\",\"startlinecolor\":\"#2a3f5f\"},\"baxis\":{\"endlinecolor\":\"#2a3f5f\",\"gridcolor\":\"white\",\"linecolor\":\"white\",\"minorgridcolor\":\"white\",\"startlinecolor\":\"#2a3f5f\"},\"type\":\"carpet\"}],\"table\":[{\"cells\":{\"fill\":{\"color\":\"#EBF0F8\"},\"line\":{\"color\":\"white\"}},\"header\":{\"fill\":{\"color\":\"#C8D4E3\"},\"line\":{\"color\":\"white\"}},\"type\":\"table\"}],\"barpolar\":[{\"marker\":{\"line\":{\"color\":\"#E5ECF6\",\"width\":0.5},\"pattern\":{\"fillmode\":\"overlay\",\"size\":10,\"solidity\":0.2}},\"type\":\"barpolar\"}],\"pie\":[{\"automargin\":true,\"type\":\"pie\"}]},\"layout\":{\"autotypenumbers\":\"strict\",\"colorway\":[\"#636efa\",\"#EF553B\",\"#00cc96\",\"#ab63fa\",\"#FFA15A\",\"#19d3f3\",\"#FF6692\",\"#B6E880\",\"#FF97FF\",\"#FECB52\"],\"font\":{\"color\":\"#2a3f5f\"},\"hovermode\":\"closest\",\"hoverlabel\":{\"align\":\"left\"},\"paper_bgcolor\":\"white\",\"plot_bgcolor\":\"#E5ECF6\",\"polar\":{\"bgcolor\":\"#E5ECF6\",\"angularaxis\":{\"gridcolor\":\"white\",\"linecolor\":\"white\",\"ticks\":\"\"},\"radialaxis\":{\"gridcolor\":\"white\",\"linecolor\":\"white\",\"ticks\":\"\"}},\"ternary\":{\"bgcolor\":\"#E5ECF6\",\"aaxis\":{\"gridcolor\":\"white\",\"linecolor\":\"white\",\"ticks\":\"\"},\"baxis\":{\"gridcolor\":\"white\",\"linecolor\":\"white\",\"ticks\":\"\"},\"caxis\":{\"gridcolor\":\"white\",\"linecolor\":\"white\",\"ticks\":\"\"}},\"coloraxis\":{\"colorbar\":{\"outlinewidth\":0,\"ticks\":\"\"}},\"colorscale\":{\"sequential\":[[0.0,\"#0d0887\"],[0.1111111111111111,\"#46039f\"],[0.2222222222222222,\"#7201a8\"],[0.3333333333333333,\"#9c179e\"],[0.4444444444444444,\"#bd3786\"],[0.5555555555555556,\"#d8576b\"],[0.6666666666666666,\"#ed7953\"],[0.7777777777777778,\"#fb9f3a\"],[0.8888888888888888,\"#fdca26\"],[1.0,\"#f0f921\"]],\"sequentialminus\":[[0.0,\"#0d0887\"],[0.1111111111111111,\"#46039f\"],[0.2222222222222222,\"#7201a8\"],[0.3333333333333333,\"#9c179e\"],[0.4444444444444444,\"#bd3786\"],[0.5555555555555556,\"#d8576b\"],[0.6666666666666666,\"#ed7953\"],[0.7777777777777778,\"#fb9f3a\"],[0.8888888888888888,\"#fdca26\"],[1.0,\"#f0f921\"]],\"diverging\":[[0,\"#8e0152\"],[0.1,\"#c51b7d\"],[0.2,\"#de77ae\"],[0.3,\"#f1b6da\"],[0.4,\"#fde0ef\"],[0.5,\"#f7f7f7\"],[0.6,\"#e6f5d0\"],[0.7,\"#b8e186\"],[0.8,\"#7fbc41\"],[0.9,\"#4d9221\"],[1,\"#276419\"]]},\"xaxis\":{\"gridcolor\":\"white\",\"linecolor\":\"white\",\"ticks\":\"\",\"title\":{\"standoff\":15},\"zerolinecolor\":\"white\",\"automargin\":true,\"zerolinewidth\":2},\"yaxis\":{\"gridcolor\":\"white\",\"linecolor\":\"white\",\"ticks\":\"\",\"title\":{\"standoff\":15},\"zerolinecolor\":\"white\",\"automargin\":true,\"zerolinewidth\":2},\"scene\":{\"xaxis\":{\"backgroundcolor\":\"#E5ECF6\",\"gridcolor\":\"white\",\"linecolor\":\"white\",\"showbackground\":true,\"ticks\":\"\",\"zerolinecolor\":\"white\",\"gridwidth\":2},\"yaxis\":{\"backgroundcolor\":\"#E5ECF6\",\"gridcolor\":\"white\",\"linecolor\":\"white\",\"showbackground\":true,\"ticks\":\"\",\"zerolinecolor\":\"white\",\"gridwidth\":2},\"zaxis\":{\"backgroundcolor\":\"#E5ECF6\",\"gridcolor\":\"white\",\"linecolor\":\"white\",\"showbackground\":true,\"ticks\":\"\",\"zerolinecolor\":\"white\",\"gridwidth\":2}},\"shapedefaults\":{\"line\":{\"color\":\"#2a3f5f\"}},\"annotationdefaults\":{\"arrowcolor\":\"#2a3f5f\",\"arrowhead\":0,\"arrowwidth\":1},\"geo\":{\"bgcolor\":\"white\",\"landcolor\":\"#E5ECF6\",\"subunitcolor\":\"white\",\"showland\":true,\"showlakes\":true,\"lakecolor\":\"white\"},\"title\":{\"x\":0.05},\"mapbox\":{\"style\":\"light\"}}},\"updatemenus\":[{\"buttons\":[{\"args\":[{\"x\":[[2012,2013,2014,2015,2016,2016,2017,2018,2018,2019,2019,2020,2020,2021,2021,2022,2022,2023,2023],[2012,2013,2014,2015,2016,2016,2017,2018,2018,2019,2019,2020,2020,2021,2021,2022,2022,2023,2023]],\"y\":[[1.057,1.1170000000000002,1.1290000000000002,1.132,1.135,0.268,1.1090000000000002,1.1290000000000002,0.505,1.1410000000000002,0.597,1.182,0.31600000000000006,0.8360000000000001,0.544,1.083,0.585,1.1099999999999999,0.54],[0.9450934487190822,0.9425118331206985,0.9603484802711263,0.9749007637758751,1.0310534641284406,1.0310534641284406,1.079803965743068,1.1519944591674813,1.1519944591674813,1.2013327153135003,1.2013327153135003,1.21091521381135,1.21091521381135,1.2850131237782914,1.2850131237782914,null,null,null,null]],\"customdata\":[[[2,1],[1,1],[1,1],[1,1],[1,1],[20,2],[2,1],[1,1],[8,2],[1,1],[4,2],[1,1],[17,2],[2,1],[5,2],[1,1],[4,2],[1,1],[7,2]],null]},{\"title\":\"Évolution des Scores Sportif et Économique - Paris\",\"yaxis.range\":[0.268,1.2850131237782914]}],\"label\":\"Paris\",\"method\":\"update\"},{\"args\":[{\"x\":[[2012,2013,2014,2015,2016,2017,2018,2019,2020,2021,2022,2023],[2012,2013,2014,2015,2016,2017,2018,2019,2020,2021,2022,2023]],\"y\":[[0.9580000000000001,0.9600000000000001,0.9320000000000002,0.97,0.9970000000000001,0.9380000000000001,0.9940000000000001,1.009,0.92,0.7550000000000001,0.856,0.9520000000000001],[0.5995751834614247,0.5982653206459929,0.599072775181693,0.6065675938182844,0.6306893892260698,0.6612589679560614,0.7016794866169422,0.7208336414872776,0.745310369488114,0.78443347047576,null,null]],\"customdata\":[[[4,1],[3,1],[5,1],[2,1],[2,1],[4,1],[3,1],[3,1],[7,1],[4,1],[8,1],[7,1]],null]},{\"title\":\"Évolution des Scores Sportif et Économique - Lyon\",\"yaxis.range\":[0.5982653206459929,1.009]}],\"label\":\"Lyon\",\"method\":\"update\"},{\"args\":[{\"x\":[[2012,2013,2014,2015,2016,2017,2018,2019,2020,2021,2022,2023],[2012,2013,2014,2015,2016,2017,2018,2019,2020,2021,2022,2023]],\"y\":[[0.8670000000000001,0.8430000000000001,0.828,0.8680000000000001,0.78,0.8740000000000001,0.8860000000000001,0.69,0.748,0.613,0.585,0.716],[0.5259249827942469,0.5253858772915103,0.5221502410732353,0.524158806403761,0.5396963907137494,0.5708828752628382,0.6179419569866034,0.6269046302883217,0.6637154040930444,0.7179693777316168,null,null]],\"customdata\":[[[5,1],[7,1],[7,1],[6,1],[11,1],[6,1],[6,1],[14,1],[12,1],[12,1],[20,1],[3,2]],null]},{\"title\":\"Évolution des Scores Sportif et Économique - Bordeaux\",\"yaxis.range\":[0.5221502410732353,0.8860000000000001]}],\"label\":\"Bordeaux\",\"method\":\"update\"},{\"args\":[{\"x\":[[2012,2013,2014,2015,2016,2017,2018,2019,2020,2021,2022,2023],[2012,2013,2014,2015,2016,2017,2018,2019,2020,2021,2022,2023]],\"y\":[[0.554,0.7190000000000001,0.8,0.762,0.744,0.878,0.85,0.793,0.773,0.49,0.8140000000000001,0.755],[0.490896960044594,0.49267571909917446,0.4831711560802072,0.4808162514704872,0.4937489490753343,0.5170005152604602,0.5555667435669568,0.570021637681293,0.6127755008934579,0.6531817359401285,null,null]],\"customdata\":[[[9,2],[3,2],[13,1],[14,1],[14,1],[7,1],[9,1],[12,1],[13,1],[18,1],[9,1],[16,1]],null]},{\"title\":\"Évolution des Scores Sportif et Économique - Nantes\",\"yaxis.range\":[0.4808162514704872,0.878]}],\"label\":\"Nantes\",\"method\":\"update\"},{\"args\":[{\"x\":[[2020,2021],[2020,2021]],\"y\":[[0.567,0.324],[0.6382048972243368,0.6613517796183592]],\"customdata\":[[[10,2],[19,2]],null]},{\"title\":\"Évolution des Scores Sportif et Économique - Chambly\",\"yaxis.range\":[0.324,0.6613517796183592]}],\"label\":\"Chambly\",\"method\":\"update\"},{\"args\":[{\"x\":[[2012,2013,2013,2014,2015,2015,2016,2016,2017,2017,2018,2018,2019,2019,2020,2021,2022,2023],[2012,2013,2013,2014,2015,2015,2016,2016,2017,2017,2018,2018,2019,2019,2020,2021,2022,2023]],\"y\":[[0.683,0.675,0.361,0.6000000000000001,0.4,0.748,0.7160000000000001,0.376,0.47800000000000004,0.6679999999999999,0.659,0.522,0.35500000000000004,0.455,0.647,0.42300000000000004,0.679,0.676],[0.544324493933342,0.5504164049355438,0.5504164049355438,0.5710233156931221,0.5919422510294109,0.5919422510294109,0.5973795904593385,0.5973795904593385,0.6289236042857755,0.6289236042857755,0.6502824320702784,0.6502824320702784,0.6621574441423131,0.6621574441423131,0.6867745420971431,0.734569389192049,null,null]],\"customdata\":[[[16,1],[17,1],[20,2],[20,1],[17,2],[2,2],[19,1],[17,2],[11,2],[9,2],[3,2],[16,2],[17,2],[18,2],[3,2],[13,2],[2,2],[18,1]],null]},{\"title\":\"Évolution des Scores Sportif et Économique - Ajaccio\",\"yaxis.range\":[0.35500000000000004,0.748]}],\"label\":\"Ajaccio\",\"method\":\"update\"},{\"args\":[{\"x\":[[2013,2014,2015,2016,2017,2018,2019,2020,2021,2022,2023],[2013,2014,2015,2016,2017,2018,2019,2020,2021,2022,2023]],\"y\":[[0.464,0.667,0.535,0.41100000000000003,0.528,0.41900000000000004,0.47900000000000004,0.34400000000000003,0.32,0.41700000000000004,0.29500000000000004],[0.4315723407851282,0.4357599450406165,0.43573941209114486,0.44387152003424835,0.45408935493725233,0.5142141139183393,0.5253556102917006,0.5787946852053636,0.615537766959763,null,null]],\"customdata\":[[[15,2],[5,2],[11,2],[16,2],[10,2],[15,2],[12,2],[18,2],[18,2],[13,2],[20,2]],null]},{\"title\":\"Évolution des Scores Sportif et Économique - Niort\",\"yaxis.range\":[0.29500000000000004,0.667]}],\"label\":\"Niort\",\"method\":\"update\"},{\"args\":[{\"x\":[[2012,2013,2014,2015,2016,2017,2018,2019,2020,2021,2022,2023],[2012,2013,2014,2015,2016,2017,2018,2019,2020,2021,2022,2023]],\"y\":[[0.907,0.7430000000000001,0.772,0.8440000000000001,0.894,0.868,0.9540000000000001,0.8600000000000001,1.059,0.774,1.0110000000000001,1.044],[0.51510299053696,0.5106114910010583,0.49932869119403755,0.48814565146896116,0.49124495073215535,0.5033638754845213,0.5357472093988908,0.5468236230059812,0.5771998081478648,0.6165792558183859,null,null]],\"customdata\":[[[6,1],[13,1],[12,1],[9,1],[8,1],[9,1],[5,1],[10,1],[3,1],[6,1],[4,1],[4,1]],null]},{\"title\":\"Évolution des Scores Sportif et Économique - Rennes\",\"yaxis.range\":[0.48814565146896116,1.059]}],\"label\":\"Rennes\",\"method\":\"update\"},{\"args\":[{\"x\":[[2012,2013,2014,2015,2016,2017,2018,2019,2020,2021,2022,2023],[2012,2013,2014,2015,2016,2017,2018,2019,2020,2021,2022,2023]],\"y\":[[0.6920000000000001,0.6419999999999999,0.653,0.702,0.73,0.6890000000000001,0.8280000000000001,0.7030000000000001,0.737,0.48300000000000004,0.52,0.401],[0.554018845297713,0.5447008623285536,0.532526540304105,0.5282145033741229,0.5291604681874068,0.537012168712274,0.5541842824788538,0.5615222501022608,0.5861743386493332,0.6147659508563781,null,null]],\"customdata\":[[[19,1],[7,2],[6,2],[4,2],[2,2],[16,1],[11,1],[18,1],[16,1],[20,1],[11,2],[18,2]],null]},{\"title\":\"Évolution des Scores Sportif et Économique - Dijon\",\"yaxis.range\":[0.401,0.8280000000000001]}],\"label\":\"Dijon\",\"method\":\"update\"},{\"args\":[{\"x\":[[2012,2013,2014,2015,2016],[2012,2013,2014,2015,2016]],\"y\":[[0.928,0.749,0.81,0.718,0.359],[0.5346838888641858,0.5322979049924339,0.5106022006590341,0.5302046808017851,0.5461536531584962]],\"customdata\":[[[9,1],[16,1],[14,1],[18,1],[18,2]],null]},{\"title\":\"Évolution des Scores Sportif et Économique - Thonon-les-Bains\",\"yaxis.range\":[0.359,0.928]}],\"label\":\"Thonon-les-Bains\",\"method\":\"update\"},{\"args\":[{\"x\":[[2012,2013,2014,2015,2016,2017,2018,2019,2020,2021,2022],[2012,2013,2014,2015,2016,2017,2018,2019,2020,2021,2022]],\"y\":[[0.8280000000000001,0.694,0.7590000000000001,0.742,0.825,0.7010000000000001,0.454,0.505,0.533,0.529,0.29800000000000004],[0.47993168790524976,0.46670869590955677,0.465855923167776,0.4584608520222697,0.46624275709371754,0.474681502943078,0.49291090602854065,0.5021299810500354,0.5419928974231267,0.577020931345034,null]],\"customdata\":[[[11,1],[18,1],[4,2],[5,2],[1,2],[19,1],[17,2],[14,2],[12,2],[8,2],[20,2]],null]},{\"title\":\"Évolution des Scores Sportif et Économique - Nancy\",\"yaxis.range\":[0.29800000000000004,0.8280000000000001]}],\"label\":\"Nancy\",\"method\":\"update\"},{\"args\":[{\"x\":[[2020,2021,2022,2023],[2020,2021,2022,2023]],\"y\":[[0.444,0.41300000000000003,0.35200000000000004,0.451],[0.6421827100811799,0.6637455035422607,null,null]],\"customdata\":[[[16,2],[15,2],[17,2],[14,2]],null]},{\"title\":\"Évolution des Scores Sportif et Économique - Rodez\",\"yaxis.range\":[0.35200000000000004,0.6637455035422607]}],\"label\":\"Rodez\",\"method\":\"update\"},{\"args\":[{\"x\":[[2019,2020,2021,2022,2023],[2019,2020,2021,2022,2023]],\"y\":[[0.536,0.518,0.5820000000000001,0.377,0.504],[0.5365477959550451,0.5617788152727365,0.5943257942814855,null,null]],\"customdata\":[[[9,2],[9,2],[4,2],[15,2],[10,2]],null]},{\"title\":\"Évolution des Scores Sportif et Économique - Grenoble\",\"yaxis.range\":[0.377,0.5943257942814855]}],\"label\":\"Grenoble\",\"method\":\"update\"},{\"args\":[{\"x\":[[2012,2013,2014,2015,2016,2017,2018,2019,2020,2021,2022,2023],[2012,2013,2014,2015,2016,2017,2018,2019,2020,2021,2022,2023]],\"y\":[[0.855,0.779,0.775,0.621,0.627,0.7130000000000001,0.613,0.647,0.549,0.5840000000000001,0.708,0.776],[0.46324835352405586,0.4516020915159105,0.44498728056334336,0.4422790887321137,0.45280348366125395,0.4872121798313058,0.5369271195819914,0.5527683826386567,0.5823463393106516,0.6194623964078783,null,null]],\"customdata\":[[[8,1],[10,1],[9,1],[17,1],[17,1],[13,1],[18,1],[16,1],[20,1],[3,2],[1,2],[13,1]],null]},{\"title\":\"Évolution des Scores Sportif et Économique - Toulouse\",\"yaxis.range\":[0.4422790887321137,0.855]}],\"label\":\"Toulouse\",\"method\":\"update\"},{\"args\":[{\"x\":[[2012,2013,2014,2015,2016,2017,2018,2019,2020,2021,2022,2023],[2012,2013,2014,2015,2016,2017,2018,2019,2020,2021,2022,2023]],\"y\":[[0.685,0.687,0.7190000000000001,0.806,0.9380000000000001,0.726,0.752,0.683,0.51,0.343,0.627,0.724],[0.43253545612415745,0.4381129027750854,0.425725163335171,0.42568374137669335,0.43514143090807156,0.45482140810263744,0.4767431619370558,0.4877431884427731,0.5276374638859747,0.553357650231244,null,null]],\"customdata\":[[[18,1],[4,2],[3,2],[13,1],[7,1],[17,1],[16,1],[19,1],[13,2],[17,2],[7,2],[5,2]],null]},{\"title\":\"Évolution des Scores Sportif et Économique - Caen\",\"yaxis.range\":[0.343,0.9380000000000001]}],\"label\":\"Caen\",\"method\":\"update\"},{\"args\":[{\"x\":[[2012,2013,2014,2015,2016,2017,2018,2019,2020,2021,2022,2023],[2012,2013,2014,2015,2016,2017,2018,2019,2020,2021,2022,2023]],\"y\":[[0.635,0.8240000000000001,0.681,0.759,0.899,0.9620000000000001,0.874,0.839,0.8590000000000001,0.649,0.8790000000000001,0.8260000000000001],[0.4859011681674945,0.4757414250360868,0.46906977731323346,0.4673009707451922,0.47644088148929714,0.49259950384666834,0.5281325667328687,0.538577845928945,0.5637753927482623,0.6097762988473133,null,null]],\"customdata\":[[[13,1],[4,1],[17,1],[11,1],[4,1],[3,1],[8,1],[7,1],[6,1],[9,1],[5,1],[9,1]],null]},{\"title\":\"Évolution des Scores Sportif et Économique - Nice\",\"yaxis.range\":[0.4673009707451922,0.9620000000000001]}],\"label\":\"Nice\",\"method\":\"update\"},{\"args\":[{\"x\":[[2012,2013,2014,2015,2016,2017,2018,2019,2020,2021,2022,2023],[2012,2013,2014,2015,2016,2017,2018,2019,2020,2021,2022,2023]],\"y\":[[0.508,0.649,0.569,0.6950000000000001,0.85,0.766,0.711,0.734,0.753,0.641,0.666,0.5700000000000001],[0.3847911155926335,0.3688099097858911,0.3517516393333339,0.348983857938074,0.36028029043956245,0.3777731604158047,0.41404676476235946,0.4237757688263656,0.46555996551597423,0.505816441880924,null,null]],\"customdata\":[[[11,2],[5,2],[9,2],[3,2],[9,1],[12,1],[14,1],[13,1],[11,1],[13,1],[14,1],[20,1]],null]},{\"title\":\"Évolution des Scores Sportif et Économique - Angers\",\"yaxis.range\":[0.348983857938074,0.85]}],\"label\":\"Angers\",\"method\":\"update\"},{\"args\":[{\"x\":[[2012,2013,2014,2015,2016,2017,2018,2019,2020,2021,2022,2023],[2012,2013,2014,2015,2016,2017,2018,2019,2020,2021,2022,2023]],\"y\":[[0.787,0.654,0.6299999999999999,0.6500000000000001,0.555,0.679,0.667,0.76,0.81,0.5730000000000001,0.831,0.7889999999999999],[0.4309802673683213,0.4292626595385377,0.4235771151509778,0.4183578704959287,0.4127122117656144,0.43596802876835866,0.471923616700299,0.4801646311911394,0.5132601477535269,0.5623595518888828,null,null]],\"customdata\":[[[15,1],[20,1],[7,2],[6,2],[10,2],[5,2],[5,2],[2,2],[14,1],[17,1],[11,1],[14,1]],null]},{\"title\":\"Évolution des Scores Sportif et Économique - Brest\",\"yaxis.range\":[0.4127122117656144,0.831]}],\"label\":\"Brest\",\"method\":\"update\"},{\"args\":[{\"x\":[[2021,2022,2023],[2021,2022,2023]],\"y\":[[0.505,0.6120000000000001,0.605],[0.4746557735578263,null,null]],\"customdata\":[[[14,2],[10,2],[12,2]],null]},{\"title\":\"Évolution des Scores Sportif et Économique - Pau\",\"yaxis.range\":[0.4746557735578263,0.6120000000000001]}],\"label\":\"Pau\",\"method\":\"update\"},{\"args\":[{\"x\":[[2012,2014,2015,2016,2017,2018,2019,2020,2021,2022,2023],[2012,2014,2015,2016,2017,2018,2019,2020,2021,2022,2023]],\"y\":[[0.359,0.744,0.632,0.6980000000000001,0.708,0.5760000000000001,0.7230000000000001,0.694,0.671,0.6080000000000001,0.7450000000000001],[0.4252381898246284,0.39674995274076635,0.38433543728508823,0.3943850988346672,0.4126158448495725,0.4357812535012637,0.44666400751551716,0.48677453408678073,0.5229727185331412,null,null]],\"customdata\":[[[18,2],[1,2],[19,1],[3,2],[14,1],[20,1],[1,2],[15,1],[10,1],[19,1],[2,2]],null]},{\"title\":\"Évolution des Scores Sportif et Économique - Metz\",\"yaxis.range\":[0.359,0.7450000000000001]}],\"label\":\"Metz\",\"method\":\"update\"},{\"args\":[{\"x\":[[2012,2013,2014,2015,2016,2017,2018,2019,2020,2021,2022,2023],[2012,2013,2014,2015,2016,2017,2018,2019,2020,2021,2022,2023]],\"y\":[[0.7590000000000001,0.93,0.93,0.746,0.733,0.67,0.633,0.635,0.744,0.587,0.728,0.887],[0.39290889914246196,0.3830804408942767,0.3656926555936488,0.35480527613531315,0.36269036957208184,0.3423696091591182,0.3837630063364212,0.39180952643376293,0.44222191432785257,0.4897635438664427,null,null]],\"customdata\":[[[17,1],[8,1],[8,1],[16,1],[15,1],[18,1],[7,2],[6,2],[1,2],[16,1],[16,1],[10,1]],null]},{\"title\":\"Évolution des Scores Sportif et Économique - Lorient\",\"yaxis.range\":[0.3423696091591182,0.93]}],\"label\":\"Lorient\",\"method\":\"update\"},{\"args\":[{\"x\":[[2015,2017,2018,2019,2020],[2015,2017,2018,2019,2020]],\"y\":[[0.41900000000000004,0.431,0.539,0.625,0.37],[0.3996046647697604,0.4207263066778358,0.4505580108201698,0.45919746658610355,0.4830011075823706]],\"customdata\":[[[18,2],[18,2],[12,2],[8,2],[20,2]],null]},{\"title\":\"Évolution des Scores Sportif et Économique - Orléans\",\"yaxis.range\":[0.37,0.625]}],\"label\":\"Orléans\",\"method\":\"update\"},{\"args\":[{\"x\":[[2012,2013,2020],[2012,2013,2020]],\"y\":[[0.379,0.353,0.336],[0.3897169563922332,0.3847058756489774,0.43170521778486437]],\"customdata\":[[[17,2],[18,2],[19,2]],null]},{\"title\":\"Évolution des Scores Sportif et Économique - Le Mans\",\"yaxis.range\":[0.336,0.43170521778486437]}],\"label\":\"Le Mans\",\"method\":\"update\"},{\"args\":[{\"x\":[[2012,2013,2014,2015,2016,2017,2018,2019,2020,2021,2022,2023],[2012,2013,2014,2015,2016,2017,2018,2019,2020,2021,2022,2023]],\"y\":[[0.888,0.9430000000000001,0.8810000000000001,0.9740000000000001,0.7800000000000001,0.897,1.0350000000000001,0.9570000000000001,1.014,0.7610000000000001,1.048,1.052],[0.4055024725640103,0.40959594770399593,0.41149285437916877,0.41854093139420506,0.42931062619650534,0.46227211409019886,0.5071278001793493,0.5275087668138604,0.5693210659262835,0.646814167365005,null,null]],\"customdata\":[[[10,1],[2,1],[6,1],[4,1],[13,1],[5,1],[4,1],[5,1],[2,1],[5,1],[2,1],[3,1]],null]},{\"title\":\"Évolution des Scores Sportif et Économique - Marseille\",\"yaxis.range\":[0.4055024725640103,1.052]}],\"label\":\"Marseille\",\"method\":\"update\"},{\"args\":[{\"x\":[[2012,2013,2014,2015,2016,2017,2018,2019,2020,2021,2022,2023],[2012,2013,2014,2015,2016,2017,2018,2019,2020,2021,2022,2023]],\"y\":[[0.8750000000000001,0.9430000000000001,0.991,0.879,0.9,0.777,0.678,0.9840000000000001,0.9590000000000001,0.8240000000000001,0.8400000000000001,0.936],[0.3769022861575801,0.37902879088255587,0.37179164911028373,0.36321134249520587,0.3692031286314002,0.38738853763740666,0.4168480821306375,0.42743082095370283,0.46237376753145126,0.5077931199725834,null,null]],\"customdata\":[[[3,1],[6,1],[3,1],[8,1],[5,1],[11,1],[17,1],[2,1],[4,1],[1,1],[10,1],[5,1]],null]},{\"title\":\"Évolution des Scores Sportif et Économique - Lille\",\"yaxis.range\":[0.36321134249520587,0.991]}],\"label\":\"Lille\",\"method\":\"update\"},{\"args\":[{\"x\":[[2012,2013,2014,2015,2016,2017,2018,2019,2020,2021,2022,2023],[2012,2013,2014,2015,2016,2017,2018,2019,2020,2021,2022,2023]],\"y\":[[0.6460000000000001,0.433,0.427,0.452,0.567,0.455,0.5780000000000001,0.48600000000000004,0.5980000000000001,0.637,0.7230000000000001,0.921],[0.42898301883921897,0.4284427055549537,0.4168800129690467,0.41075229351771486,0.40951396659758943,0.4145739727970745,0.43013807762272016,0.43711459791773816,0.47298976971266676,0.5014697203181232,null,null]],\"customdata\":[[[5,2],[14,2],[14,2],[12,2],[7,2],[12,2],[6,2],[10,2],[5,2],[2,2],[17,1],[8,1]],null]},{\"title\":\"Évolution des Scores Sportif et Économique - Clermont-Ferrand\",\"yaxis.range\":[0.40951396659758943,0.921]}],\"label\":\"Clermont-Ferrand\",\"method\":\"update\"},{\"args\":[{\"x\":[[2012,2013,2014,2015,2016,2017,2018,2019,2020,2021,2022,2023],[2012,2013,2014,2015,2016,2017,2018,2019,2020,2021,2022,2023]],\"y\":[[0.615,0.536,0.39,0.5389999999999999,0.5469999999999999,0.379,0.49600000000000005,0.42200000000000004,0.49300000000000005,0.5810000000000001,0.7010000000000001,0.732],[0.3718883005899482,0.36314288897218505,0.3564830778763298,0.34062085692734556,0.35239149159353217,0.38430907438194284,0.40834887492556,0.4167815783649615,0.46347758324461824,0.48623069557069426,null,null]],\"customdata\":[[[20,1],[9,2],[16,2],[9,2],[8,2],[17,2],[11,2],[15,2],[11,2],[6,2],[3,2],[17,1]],null]},{\"title\":\"Évolution des Scores Sportif et Économique - Auxerre\",\"yaxis.range\":[0.34062085692734556,0.732]}],\"label\":\"Auxerre\",\"method\":\"update\"},{\"args\":[{\"x\":[[2012,2013,2014,2015,2018,2019,2020,2021],[2012,2013,2014,2015,2018,2019,2020,2021]],\"y\":[[0.448,0.399,0.359,0.327,0.518,0.47800000000000004,0.389,0.274],[0.3488137261009527,0.3530220154179199,0.34559950935375144,0.3514981909903958,0.3828766613981003,0.3872274229036899,0.4143192248916912,0.4555887387762901]],\"customdata\":[[[14,2],[16,2],[18,2],[19,2],[9,2],[11,2],[15,2],[20,2]],null]},{\"title\":\"Évolution des Scores Sportif et Économique - Châteauroux\",\"yaxis.range\":[0.274,0.518]}],\"label\":\"Châteauroux\",\"method\":\"update\"},{\"args\":[{\"x\":[[2012,2013,2014],[2012,2013,2014]],\"y\":[[0.462,0.402,0.279],[0.5169926521560739,0.5074896378989485,0.5178167569685361]],\"customdata\":[[[10,2],[13,2],[19,2]],null]},{\"title\":\"Évolution des Scores Sportif et Économique - Istres\",\"yaxis.range\":[0.279,0.5178167569685361]}],\"label\":\"Istres\",\"method\":\"update\"},{\"args\":[{\"x\":[[2017,2018,2019,2020,2021,2022,2023],[2017,2018,2019,2020,2021,2022,2023]],\"y\":[[0.7949999999999999,0.796,0.891,0.905,0.5740000000000001,0.9700000000000001,0.8109999999999999],[0.3938873865210539,0.4228196377281202,0.4358450967896727,0.46856856377675904,0.5045709215131667,null,null]],\"customdata\":[[[1,2],[15,1],[11,1],[10,1],[15,1],[6,1],[15,1]],null]},{\"title\":\"Évolution des Scores Sportif et Économique - Strasbourg\",\"yaxis.range\":[0.3938873865210539,0.9700000000000001]}],\"label\":\"Strasbourg\",\"method\":\"update\"},{\"args\":[{\"x\":[[2012,2013,2014,2015,2016,2017,2018,2019,2020,2021,2022,2023],[2012,2013,2014,2015,2016,2017,2018,2019,2020,2021,2022,2023]],\"y\":[[0.766,0.786,0.611,0.399,0.48500000000000004,0.436,0.459,0.462,0.5760000000000001,0.451,0.387,0.396],[0.3051623657455667,0.2982451418674957,0.300705056403176,0.2846539221944529,0.2915355612813494,0.28983432463473197,0.33269693392974553,0.342086712205532,0.3693143679795666,0.3863883929471112,null,null]],\"customdata\":[[[12,1],[11,1],[19,1],[16,2],[12,2],[14,2],[13,2],[13,2],[7,2],[11,2],[16,2],[16,2]],null]},{\"title\":\"Évolution des Scores Sportif et Économique - Valenciennes\",\"yaxis.range\":[0.2846539221944529,0.786]}],\"label\":\"Valenciennes\",\"method\":\"update\"},{\"args\":[{\"x\":[[2021,2022],[2021,2022]],\"y\":[[0.378,0.378],[0.3782032184985793,null]],\"customdata\":[[[16,2],[19,2]],null]},{\"title\":\"Évolution des Scores Sportif et Économique - Dunkerque\",\"yaxis.range\":[0.378,0.3782032184985793]}],\"label\":\"Dunkerque\",\"method\":\"update\"},{\"args\":[{\"x\":[[2012,2013,2014,2015,2016,2017,2018,2019,2020,2021,2022,2023],[2012,2013,2014,2015,2016,2017,2018,2019,2020,2021,2022,2023]],\"y\":[[0.7689999999999999,0.768,0.8280000000000001,0.727,0.658,0.633,0.744,0.87,0.9090000000000001,0.6,0.751,0.798],[0.3864529722901525,0.3747019400433937,0.36055147900475587,0.3492646403186347,0.35153432952198715,0.36168843520559957,0.3918740637108042,0.399787471706682,0.43326438160671327,0.46682840806381176,null,null]],\"customdata\":[[[2,2],[14,1],[11,1],[15,1],[18,1],[7,2],[1,2],[8,1],[5,1],[14,1],[12,1],[11,1]],null]},{\"title\":\"Évolution des Scores Sportif et Économique - Reims\",\"yaxis.range\":[0.3492646403186347,0.9090000000000001]}],\"label\":\"Reims\",\"method\":\"update\"},{\"args\":[{\"x\":[[2012,2013,2014,2015,2016,2017,2018,2019,2020,2021,2022,2023],[2012,2013,2014,2015,2016,2017,2018,2019,2020,2021,2022,2023]],\"y\":[[0.41600000000000004,0.6020000000000001,0.47000000000000003,0.567,0.6300000000000001,0.5529999999999999,0.627,0.558,0.5900000000000001,0.41900000000000004,0.532,0.75],[0.2976510655635566,0.2952114010476993,0.285144748456615,0.27960153477200356,0.2817372292679527,0.29429464438516206,0.3051663951072655,0.3086389593646264,0.34091449072256214,0.3782074970720006,null,null]],\"customdata\":[[[15,2],[6,2],[12,2],[7,2],[4,2],[8,2],[4,2],[7,2],[6,2],[12,2],[8,2],[1,2]],null]},{\"title\":\"Évolution des Scores Sportif et Économique - Le Havre\",\"yaxis.range\":[0.27960153477200356,0.75]}],\"label\":\"Le Havre\",\"method\":\"update\"},{\"args\":[{\"x\":[[2012,2013,2014,2015,2016,2017,2018],[2012,2013,2014,2015,2016,2017,2018]],\"y\":[[0.6260000000000001,0.522,0.607,0.44,0.5569999999999999,0.40800000000000003,0.30100000000000005],[0.4281590977763654,0.4144377625684366,0.39859380423439444,0.3853547918928561,0.3877294655076183,0.3914191039799765,0.42403465096140885]],\"customdata\":[[[6,2],[10,2],[8,2],[15,2],[9,2],[16,2],[20,2]],null]},{\"title\":\"Évolution des Scores Sportif et Économique - Tours\",\"yaxis.range\":[0.30100000000000005,0.6260000000000001]}],\"label\":\"Tours\",\"method\":\"update\"},{\"args\":[{\"x\":[[2012,2013,2014,2015,2016,2017,2023],[2012,2013,2014,2015,2016,2017,2023]],\"y\":[[0.456,0.40900000000000003,0.43000000000000005,0.6100000000000001,0.5070000000000001,0.35200000000000004,0.512],[0.4864814113735541,0.4926697118038059,0.47502355376621525,0.4659740824637821,0.4771916641599028,0.48107613447899017,null]],\"customdata\":[[[16,2],[17,2],[17,2],[8,2],[13,2],[20,2],[15,2]],null]},{\"title\":\"Évolution des Scores Sportif et Économique - Laval\",\"yaxis.range\":[0.35200000000000004,0.6100000000000001]}],\"label\":\"Laval\",\"method\":\"update\"},{\"args\":[{\"x\":[[2012,2013,2014,2015,2016,2017,2018,2019,2020,2021,2022,2023],[2012,2013,2014,2015,2016,2017,2018,2019,2020,2021,2022,2023]],\"y\":[[1.04,0.871,0.7210000000000001,0.854,0.754,0.6880000000000001,0.797,0.889,0.8520000000000001,0.7110000000000001,0.7070000000000001,0.769],[0.333418777181612,0.324199366225621,0.3229710633413693,0.3200862580486292,0.3266924727430267,0.34213501038710864,0.36724016185261754,0.3845283656416586,0.41317094917493064,0.451441176062626,null,null]],\"customdata\":[[[1,1],[9,1],[15,1],[7,1],[12,1],[15,1],[10,1],[6,1],[8,1],[8,1],[13,1],[12,1]],null]},{\"title\":\"Évolution des Scores Sportif et Économique - Montpellier\",\"yaxis.range\":[0.3200862580486292,1.04]}],\"label\":\"Montpellier\",\"method\":\"update\"},{\"args\":[{\"x\":[[2012,2017,2018,2019,2020,2021,2022,2023],[2012,2017,2018,2019,2020,2021,2022,2023]],\"y\":[[0.442,0.7629999999999999,0.779,0.772,0.7100000000000001,0.528,0.505,0.554],[0.3042922797161958,0.34570477973354136,0.3715468735355035,0.38091910147826746,0.3837892190103077,0.4044899733230465,null,null]],\"customdata\":[[[20,2],[2,2],[13,1],[15,1],[19,1],[10,2],[14,2],[12,2]],null]},{\"title\":\"Évolution des Scores Sportif et Économique - Amiens\",\"yaxis.range\":[0.3042922797161958,0.779]}],\"label\":\"Amiens\",\"method\":\"update\"},{\"args\":[{\"x\":[[2016,2017,2018],[2016,2017,2018]],\"y\":[[0.457,0.386,0.338],[0.36350726706689573,0.38126933087059206,0.3978268623078188]],\"customdata\":[[[11,2],[15,2],[18,2]],null]},{\"title\":\"Évolution des Scores Sportif et Économique - Bourg-en-Bresse\",\"yaxis.range\":[0.338,0.457]}],\"label\":\"Bourg-en-Bresse\",\"method\":\"update\"},{\"args\":[{\"x\":[[2014,2015,2016],[2014,2015,2016]],\"y\":[[0.463,0.4,0.29700000000000004],[0.4472531423914857,0.4356890679988756,0.4467590909163418]],\"customdata\":[[[11,2],[14,2],[19,2]],null]},{\"title\":\"Évolution des Scores Sportif et Économique - Créteil\",\"yaxis.range\":[0.29700000000000004,0.463]}],\"label\":\"Créteil\",\"method\":\"update\"},{\"args\":[{\"x\":[[2012,2013,2014,2015,2016,2017,2018,2019,2020,2021,2022,2023],[2012,2013,2014,2015,2016,2017,2018,2019,2020,2021,2022,2023]],\"y\":[[0.833,0.8850000000000001,0.9690000000000001,0.9890000000000001,0.916,0.855,0.881,0.9440000000000001,0.654,0.621,0.634,0.6160000000000001],[0.3432963052489445,0.32912691320285925,0.3179114274723986,0.29862940445446917,0.30108047353238243,0.3164619023649071,0.3403419029440969,0.3446757113227873,0.3549885497673622,0.3762511493233036,null,null]],\"customdata\":[[[7,1],[5,1],[4,1],[5,1],[6,1],[8,1],[7,1],[4,1],[17,1],[11,1],[18,1],[8,2]],null]},{\"title\":\"Évolution des Scores Sportif et Économique - Saint-Étienne\",\"yaxis.range\":[0.29862940445446917,0.9890000000000001]}],\"label\":\"Saint-Étienne\",\"method\":\"update\"},{\"args\":[{\"x\":[[2016,2017,2019],[2016,2017,2019]],\"y\":[[0.6220000000000001,0.504,0.34299999999999997],[0.31957805391227356,0.3245857255715865,0.3493167257650503]],\"customdata\":[[[5,2],[19,2],[20,2]],null]},{\"title\":\"Évolution des Scores Sportif et Économique - Saint-Ouen\",\"yaxis.range\":[0.31957805391227356,0.6220000000000001]}],\"label\":\"Saint-Ouen\",\"method\":\"update\"},{\"args\":[{\"x\":[[2013,2014,2015,2016,2017,2018,2019,2020,2021,2022,2023],[2013,2014,2015,2016,2017,2018,2019,2020,2021,2022,2023]],\"y\":[[0.6699999999999999,0.5329999999999999,0.549,0.5980000000000001,0.746,0.7210000000000001,0.757,0.565,0.554,0.509,0.34500000000000003],[0.2562232205047056,0.25889499680926736,0.27367873601631104,0.2852891430912072,0.2972050217583491,0.3232259616249145,0.3313993753442505,0.3583568931452563,0.3849511289058465,null,null]],\"customdata\":[[[8,2],[15,2],[13,2],[14,2],[6,2],[2,2],[9,1],[18,1],[19,1],[9,2],[19,2]],null]},{\"title\":\"Évolution des Scores Sportif et Économique - Nîmes\",\"yaxis.range\":[0.2562232205047056,0.757]}],\"label\":\"Nîmes\",\"method\":\"update\"},{\"args\":[{\"x\":[[2012,2013,2014,2014,2015,2016,2017,2022,2023],[2012,2013,2014,2014,2015,2016,2017,2022,2023]],\"y\":[[0.78,0.796,0.869,0.247,0.8140000000000001,0.8300000000000001,0.6120000000000001,0.5150000000000001,0.7230000000000001],[0.4469553603771057,0.42841644929278866,0.42202813231725816,0.42202813231725816,0.43935438403396615,0.4546217583889872,0.507301578147209,null,null]],\"customdata\":[[[1,2],[12,1],[10,1],[20,2],[12,1],[10,1],[20,1],[12,2],[4,2]],null]},{\"title\":\"Évolution des Scores Sportif et Économique - Bastia\",\"yaxis.range\":[0.247,0.869]}],\"label\":\"Bastia\",\"method\":\"update\"},{\"args\":[{\"x\":[[2012,2013,2014,2015,2016,2017,2018,2019,2020,2021,2022,2023],[2012,2013,2014,2015,2016,2017,2018,2019,2020,2021,2022,2023]],\"y\":[[0.633,0.736,0.743,0.863,0.737,0.8600000000000001,0.8170000000000001,0.66,0.607,0.515,0.629,0.6440000000000001],[0.3779279317742407,0.2197393951835861,0.21247628802971052,0.2153297091714554,0.20989327854708398,0.22062708659197794,0.3028221160154744,0.3059191542145888,0.310027264168857,0.32795923548873673,null,null]],\"customdata\":[[[7,2],[2,2],[16,1],[10,1],[16,1],[10,1],[12,1],[20,1],[8,2],[9,2],[6,2],[6,2]],null]},{\"title\":\"Évolution des Scores Sportif et Économique - Guingamp\",\"yaxis.range\":[0.20989327854708398,0.863]}],\"label\":\"Guingamp\",\"method\":\"update\"},{\"args\":[{\"x\":[[2012,2013,2014,2015,2016,2017,2018,2019,2020,2021,2022,2023],[2012,2013,2014,2015,2016,2017,2018,2019,2020,2021,2022,2023]],\"y\":[[0.7190000000000001,0.644,0.567,0.7410000000000001,0.603,0.659,0.62,0.659,0.633,0.663,0.661,0.587],[0.26574885825570943,0.23985562418202708,0.21032387265803595,0.17508648924710782,0.16883383156370266,0.1872791523800678,0.21224905245740214,0.22190063845848773,0.2537012588846053,0.2882462565113173,null,null]],\"customdata\":[[[3,2],[19,1],[10,2],[1,2],[20,1],[3,2],[19,1],[3,2],[4,2],[1,2],[15,1],[19,1]],null]},{\"title\":\"Évolution des Scores Sportif et Économique - Troyes\",\"yaxis.range\":[0.16883383156370266,0.7410000000000001]}],\"label\":\"Troyes\",\"method\":\"update\"},{\"args\":[{\"x\":[[2018,2022,2023],[2018,2022,2023]],\"y\":[[0.336,0.374,0.538],[0.2736156454589375,null,null]],\"customdata\":[[[19,2],[18,2],[11,2]],null]},{\"title\":\"Évolution des Scores Sportif et Économique - Petit-Quevilly\",\"yaxis.range\":[0.2736156454589375,0.538]}],\"label\":\"Petit-Quevilly\",\"method\":\"update\"},{\"args\":[{\"x\":[[2012,2013,2014,2015],[2012,2013,2014,2015]],\"y\":[[0.40800000000000003,0.43900000000000006,0.396,0.24400000000000002],[0.37634453267429,0.40466253715063866,0.4146439726391628,0.4441955976682546]],\"customdata\":[[[13,2],[11,2],[13,2],[20,2]],null]},{\"title\":\"Évolution des Scores Sportif et Économique - Arles\",\"yaxis.range\":[0.24400000000000002,0.4441955976682546]}],\"label\":\"Arles\",\"method\":\"update\"},{\"args\":[{\"x\":[[2012,2013,2014,2015,2016,2017,2018,2019,2020,2021,2022,2023],[2012,2013,2014,2015,2016,2017,2018,2019,2020,2021,2022,2023]],\"y\":[[0.5509999999999999,0.506,0.823,0.555,0.7070000000000001,0.768,0.526,0.7270000000000001,0.79,0.719,0.9349999999999999,1.077],[0.09194247584177076,0.08820592578192436,0.0731553465741334,0.043878573140781446,0.043874586144409915,0.042508673412807015,0.07848631424248159,0.09124227397078176,0.1486545809773258,0.19333027186696594,null,null]],\"customdata\":[[[12,2],[12,2],[2,2],[20,1],[6,2],[4,2],[14,2],[5,2],[2,2],[7,1],[7,1],[2,1]],null]},{\"title\":\"Évolution des Scores Sportif et Économique - Lens\",\"yaxis.range\":[0.042508673412807015,1.077]}],\"label\":\"Lens\",\"method\":\"update\"},{\"args\":[{\"x\":[[2012,2013,2014,2015,2016,2017,2018,2019,2020,2021,2022,2023],[2012,2013,2014,2015,2016,2017,2018,2019,2020,2021,2022,2023]],\"y\":[[0.75,0.7210000000000001,0.676,0.558,0.455,0.504,0.537,0.41100000000000003,0.445,0.552,0.6580000000000001,0.62],[0.023430556377317724,0.029602825839839166,0.034962235161140186,0.031660767224601274,0.048787836613721866,0.28836598439523486,0.29093845001408797,0.2785529252966663,0.28870642505068816,0.284186762292648,null,null]],\"customdata\":[[[14,1],[15,1],[18,1],[10,2],[15,2],[13,2],[10,2],[16,2],[14,2],[7,2],[5,2],[9,2]],null]},{\"title\":\"Évolution des Scores Sportif et Économique - Sochaux\",\"yaxis.range\":[0.023430556377317724,0.75]}],\"label\":\"Sochaux\",\"method\":\"update\"},{\"args\":[{\"x\":[[2019],[2019]],\"y\":[[0.30900000000000005],[0.24777980305835534]],\"customdata\":[[[19,2]],null]},{\"title\":\"Évolution des Scores Sportif et Économique - Béziers\",\"yaxis.range\":[0.24777980305835534,0.30900000000000005]}],\"label\":\"Béziers\",\"method\":\"update\"},{\"args\":[{\"x\":[[2012,2013],[2012,2013]],\"y\":[[0.6420000000000001,0.30900000000000005],[0.05602689521990749,0.03057197879456852]],\"customdata\":[[[4,2],[19,2]],null]},{\"title\":\"Évolution des Scores Sportif et Économique - Sedan\",\"yaxis.range\":[0.03057197879456852,0.6420000000000001]}],\"label\":\"Sedan\",\"method\":\"update\"},{\"args\":[{\"x\":[[2012],[2012]],\"y\":[[0.405],[0.12423827223567106]],\"customdata\":[[[19,2]],null]},{\"title\":\"Évolution des Scores Sportif et Économique - Boulogne-sur-Mer\",\"yaxis.range\":[0.12423827223567106,0.405]}],\"label\":\"Boulogne-sur-Mer\",\"method\":\"update\"},{\"args\":[{\"x\":[[2023],[2023]],\"y\":[[0.43000000000000005],[null]],\"customdata\":[[[17,2]],null]},{\"title\":\"Évolution des Scores Sportif et Économique - Annecy\",\"yaxis.range\":[0.43000000000000005,0.43000000000000005]}],\"label\":\"Annecy\",\"method\":\"update\"}],\"direction\":\"down\",\"showactive\":true,\"x\":0.1,\"xanchor\":\"left\",\"y\":1.15,\"yanchor\":\"top\"}],\"title\":{\"text\":\"Évolution des Scores Sportif et Économique - Paris\"},\"xaxis\":{\"title\":{\"text\":\"Saison\"}},\"yaxis\":{\"title\":{\"text\":\"Score\"}},\"legend\":{\"title\":{\"text\":\"Type de Score\"}},\"hovermode\":\"x unified\"},                        {\"responsive\": true}                    ).then(function(){\n",
              "                            \n",
              "var gd = document.getElementById('f071dc71-29ae-4c11-bd3a-1100afde82f5');\n",
              "var x = new MutationObserver(function (mutations, observer) {{\n",
              "        var display = window.getComputedStyle(gd).display;\n",
              "        if (!display || display === 'none') {{\n",
              "            console.log([gd, 'removed!']);\n",
              "            Plotly.purge(gd);\n",
              "            observer.disconnect();\n",
              "        }}\n",
              "}});\n",
              "\n",
              "// Listen for the removal of the full notebook cells\n",
              "var notebookContainer = gd.closest('#notebook-container');\n",
              "if (notebookContainer) {{\n",
              "    x.observe(notebookContainer, {childList: true});\n",
              "}}\n",
              "\n",
              "// Listen for the clearing of the current output cell\n",
              "var outputEl = gd.closest('.output');\n",
              "if (outputEl) {{\n",
              "    x.observe(outputEl, {childList: true});\n",
              "}}\n",
              "\n",
              "                        })                };                            </script>        </div>\n",
              "</body>\n",
              "</html>"
            ]
          },
          "metadata": {},
          "output_type": "display_data"
        }
      ],
      "source": [
        "villes = df['ville'].unique()\n",
        "\n",
        "fig = go.Figure()\n",
        "\n",
        "# Ville initiale\n",
        "ville_initiale = villes[0]\n",
        "filtered_df = df[df['ville'] == ville_initiale].sort_values('fin_saison')\n",
        "\n",
        "# Ajouter les traces initiales\n",
        "fig.add_trace(\n",
        "    go.Scatter(\n",
        "        x=filtered_df['fin_saison'],\n",
        "        y=filtered_df['score_sportif'],\n",
        "        mode='lines+markers',\n",
        "        name='Score Sportif',\n",
        "        line=dict(color='blue'),\n",
        "        hovertemplate=(\n",
        "            'Saison: %{x}<br>'\n",
        "            'Score Sportif: %{y:.2f}<br>'\n",
        "            'Classement: %{customdata[0]}<br>'\n",
        "            'Division: %{customdata[1]}'\n",
        "        ),\n",
        "        customdata=filtered_df[['classement', 'division']].values\n",
        "    )\n",
        ")\n",
        "\n",
        "fig.add_trace(\n",
        "    go.Scatter(\n",
        "        x=filtered_df['fin_saison'],\n",
        "        y=filtered_df['score_economique'],\n",
        "        mode='lines+markers',\n",
        "        name='Score Économique',\n",
        "        line=dict(color='green'),\n",
        "        hovertemplate='Saison: %{x}<br>Score Économique: %{y:.2f}'\n",
        "    )\n",
        ")\n",
        "\n",
        "# Boutons pour changer la ville\n",
        "buttons = []\n",
        "\n",
        "for ville in villes:\n",
        "    filtered_df = df[df['ville'] == ville].sort_values('fin_saison')\n",
        "\n",
        "    # Calculer les limites dynamiques pour l'axe y\n",
        "    y_min = min(filtered_df['score_sportif'].min(), filtered_df['score_economique'].min())\n",
        "    y_max = max(filtered_df['score_sportif'].max(), filtered_df['score_economique'].max())\n",
        "\n",
        "    buttons.append(\n",
        "        dict(\n",
        "            label=ville,\n",
        "            method=\"update\",\n",
        "            args=[\n",
        "                {\n",
        "                    \"x\": [filtered_df['fin_saison'], filtered_df['fin_saison']],\n",
        "                    \"y\": [filtered_df['score_sportif'], filtered_df['score_economique']],\n",
        "                    \"customdata\": [filtered_df[['classement', 'division']].values, None]\n",
        "                },\n",
        "                {\n",
        "                    \"title\": f\"Évolution des Scores Sportif et Économique - {ville}\",\n",
        "                    \"yaxis.range\": [y_min, y_max]  # Mettre à jour la plage de l'axe y\n",
        "                }\n",
        "            ]\n",
        "        )\n",
        "    )\n",
        "\n",
        "# Configuration des menus et de la mise en page\n",
        "fig.update_layout(\n",
        "    updatemenus=[\n",
        "        dict(\n",
        "            buttons=buttons,\n",
        "            direction=\"down\",\n",
        "            showactive=True,\n",
        "            x=0.1,\n",
        "            xanchor=\"left\",\n",
        "            y=1.15,\n",
        "            yanchor=\"top\"\n",
        "        )\n",
        "    ],\n",
        "    title=f\"Évolution des Scores Sportif et Économique - {ville_initiale}\",\n",
        "    xaxis_title=\"Saison\",\n",
        "    yaxis_title=\"Score\",\n",
        "    legend_title=\"Type de Score\",\n",
        "    hovermode=\"x unified\"\n",
        ")\n",
        "\n",
        "# Afficher la figure\n",
        "fig.show()"
      ]
    },
    {
      "cell_type": "code",
      "execution_count": 42,
      "metadata": {
        "colab": {
          "base_uri": "https://localhost:8080/",
          "height": 211
        },
        "id": "V9uh3Nb9n9Bc",
        "outputId": "e1ec9877-aaf6-4ab3-d663-524288a832a5"
      },
      "outputs": [
        {
          "ename": "NameError",
          "evalue": "name 'df_aggregated' is not defined",
          "output_type": "error",
          "traceback": [
            "\u001b[0;31m---------------------------------------------------------------------------\u001b[0m",
            "\u001b[0;31mNameError\u001b[0m                                 Traceback (most recent call last)",
            "\u001b[0;32m<ipython-input-42-e7bb793cf921>\u001b[0m in \u001b[0;36m<cell line: 5>\u001b[0;34m()\u001b[0m\n\u001b[1;32m      3\u001b[0m \u001b[0;34m\u001b[0m\u001b[0m\n\u001b[1;32m      4\u001b[0m \u001b[0;31m# Utiliser la première ville dans les données agrégées\u001b[0m\u001b[0;34m\u001b[0m\u001b[0;34m\u001b[0m\u001b[0m\n\u001b[0;32m----> 5\u001b[0;31m \u001b[0mville_initiale\u001b[0m \u001b[0;34m=\u001b[0m \u001b[0mdf_aggregated\u001b[0m\u001b[0;34m[\u001b[0m\u001b[0;34m'ville'\u001b[0m\u001b[0;34m]\u001b[0m\u001b[0;34m.\u001b[0m\u001b[0munique\u001b[0m\u001b[0;34m(\u001b[0m\u001b[0;34m)\u001b[0m\u001b[0;34m[\u001b[0m\u001b[0;36m0\u001b[0m\u001b[0;34m]\u001b[0m\u001b[0;34m\u001b[0m\u001b[0;34m\u001b[0m\u001b[0m\n\u001b[0m\u001b[1;32m      6\u001b[0m \u001b[0mfiltered_df\u001b[0m \u001b[0;34m=\u001b[0m \u001b[0mdf_aggregated\u001b[0m\u001b[0;34m[\u001b[0m\u001b[0mdf_aggregated\u001b[0m\u001b[0;34m[\u001b[0m\u001b[0;34m'ville'\u001b[0m\u001b[0;34m]\u001b[0m \u001b[0;34m==\u001b[0m \u001b[0mville_initiale\u001b[0m\u001b[0;34m]\u001b[0m\u001b[0;34m\u001b[0m\u001b[0;34m\u001b[0m\u001b[0m\n\u001b[1;32m      7\u001b[0m \u001b[0;34m\u001b[0m\u001b[0m\n",
            "\u001b[0;31mNameError\u001b[0m: name 'df_aggregated' is not defined"
          ]
        }
      ],
      "source": [
        "# Initialiser la figure\n",
        "fig = go.Figure()\n",
        "\n",
        "# Utiliser la première ville dans les données agrégées\n",
        "ville_initiale = df_aggregated['ville'].unique()[0]\n",
        "filtered_df = df_aggregated[df_aggregated['ville'] == ville_initiale]\n",
        "\n",
        "# Ajouter les traces pour le graphique\n",
        "fig.add_trace(\n",
        "    go.Scatter(\n",
        "        x=filtered_df['fin_saison'],\n",
        "        y=filtered_df['score_sportif'],\n",
        "        mode='lines+markers',\n",
        "        name='Score Sportif',\n",
        "        line=dict(color='blue'),\n",
        "        hovertemplate=(\n",
        "            'Saison: %{x}<br>'\n",
        "            'Score Sportif: %{y:.2f}<br>'\n",
        "            'Classement: %{customdata[0]}<br>'\n",
        "            'Division: %{customdata[1]}'\n",
        "        ),\n",
        "        customdata=filtered_df[['classement', 'division']].values\n",
        "    )\n",
        ")\n",
        "\n",
        "fig.add_trace(\n",
        "    go.Scatter(\n",
        "        x=filtered_df['fin_saison'],\n",
        "        y=filtered_df['score_economique'],\n",
        "        mode='lines+markers',\n",
        "        name='Score Économique',\n",
        "        line=dict(color='green'),\n",
        "        hovertemplate='Saison: %{x}<br>Score Économique: %{y:.2f}'\n",
        "    )\n",
        ")\n",
        "\n",
        "# Ajouter les boutons pour les villes\n",
        "buttons = []\n",
        "for ville in df_aggregated['ville'].unique():\n",
        "    filtered_df = df_aggregated[df_aggregated['ville'] == ville]\n",
        "\n",
        "    # Calculer les limites de y pour les deux courbes (sportif et économique)\n",
        "    y_min = min(filtered_df['score_sportif'].min(), filtered_df['score_economique'].min())\n",
        "    y_max = max(filtered_df['score_sportif'].max(), filtered_df['score_economique'].max())\n",
        "\n",
        "    # Ajouter les boutons avec la mise à jour de la plage de y\n",
        "    buttons.append(\n",
        "        dict(\n",
        "            label=ville,\n",
        "            method=\"update\",\n",
        "            args=[\n",
        "                {\n",
        "                    \"x\": [filtered_df['fin_saison'], filtered_df['fin_saison']],\n",
        "                    \"y\": [filtered_df['score_sportif'], filtered_df['score_economique']],\n",
        "                    \"customdata\": [filtered_df[['classement', 'division']].values, None],\n",
        "                    \"yaxis.range\": [y_min, y_max]  # Ajuster la plage de l'axe y\n",
        "                },\n",
        "                {\n",
        "                    \"title\": f\"Évolution des Scores Sportif et Économique - {ville}\",\n",
        "                }\n",
        "            ]\n",
        "        )\n",
        "    )\n",
        "\n",
        "# Mettre à jour la mise en page\n",
        "fig.update_layout(\n",
        "    updatemenus=[\n",
        "        dict(\n",
        "            buttons=buttons,\n",
        "            direction=\"down\",\n",
        "            showactive=True,\n",
        "            x=0.1,\n",
        "            xanchor=\"left\",\n",
        "            y=1.15,\n",
        "            yanchor=\"top\"\n",
        "        )\n",
        "    ],\n",
        "    title=f\"Évolution des Scores Sportif et Économique - {ville_initiale}\",\n",
        "    xaxis_title=\"Saison\",\n",
        "    yaxis_title=\"Score\",\n",
        "    legend_title=\"Type de Score\",\n",
        "    hovermode=\"x unified\"\n",
        ")\n",
        "\n",
        "# Afficher la figure\n",
        "fig.show()"
      ]
    }
  ],
  "metadata": {
    "colab": {
      "provenance": []
    },
    "kernelspec": {
      "display_name": "Python 3",
      "name": "python3"
    },
    "language_info": {
      "name": "python"
    }
  },
  "nbformat": 4,
  "nbformat_minor": 0
}
