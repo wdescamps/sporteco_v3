{
  "nbformat": 4,
  "nbformat_minor": 0,
  "metadata": {
    "colab": {
      "provenance": []
    },
    "kernelspec": {
      "name": "python3",
      "display_name": "Python 3"
    },
    "language_info": {
      "name": "python"
    }
  },
  "cells": [
    {
      "cell_type": "code",
      "execution_count": 1,
      "metadata": {
        "id": "vlrTqeVOVYAF"
      },
      "outputs": [],
      "source": [
        "import pandas as pd\n",
        "import seaborn as sns\n",
        "import matplotlib.pyplot as plt\n",
        "import plotly.express as px\n",
        "import plotly.graph_objects as go\n",
        "import numpy as np"
      ]
    },
    {
      "cell_type": "code",
      "source": [
        "df = pd.read_csv('/content/source_pour_score_eco_sportif_region.csv')"
      ],
      "metadata": {
        "id": "aPjZQnupVlDk"
      },
      "execution_count": 20,
      "outputs": []
    },
    {
      "cell_type": "code",
      "source": [
        "df.info()"
      ],
      "metadata": {
        "colab": {
          "base_uri": "https://localhost:8080/"
        },
        "id": "SUtygm4pVomp",
        "outputId": "832014f5-c066-4d85-ae4d-e8d64411390b"
      },
      "execution_count": 3,
      "outputs": [
        {
          "output_type": "stream",
          "name": "stdout",
          "text": [
            "<class 'pandas.core.frame.DataFrame'>\n",
            "RangeIndex: 264 entries, 0 to 263\n",
            "Data columns (total 8 columns):\n",
            " #   Column                             Non-Null Count  Dtype \n",
            "---  ------                             --------------  ----- \n",
            " 0   region                             264 non-null    object\n",
            " 1   fin_saison                         264 non-null    object\n",
            " 2   SUM de nb_clubs                    264 non-null    int64 \n",
            " 3   SUM de nb_sport                    264 non-null    int64 \n",
            " 4   AVERAGE de score_classement_moyen  264 non-null    int64 \n",
            " 5   SUM de nb_crea_entreprise          264 non-null    object\n",
            " 6   AVERAGE de taux_chomage            264 non-null    object\n",
            " 7   SUM de salaire_median              264 non-null    object\n",
            "dtypes: int64(3), object(5)\n",
            "memory usage: 16.6+ KB\n"
          ]
        }
      ]
    },
    {
      "cell_type": "code",
      "source": [
        "df['fin_saison'] = df['fin_saison'].str.replace(r'[^\\d]', '', regex=True)"
      ],
      "metadata": {
        "id": "yK9RLZKSLMI6"
      },
      "execution_count": 4,
      "outputs": []
    },
    {
      "cell_type": "code",
      "source": [
        "df['fin_saison'] = df['fin_saison'].astype(int)"
      ],
      "metadata": {
        "id": "rHEkW_m9LMAi"
      },
      "execution_count": 5,
      "outputs": []
    },
    {
      "cell_type": "code",
      "source": [
        "df['SUM de salaire_median'] = df['SUM de salaire_median'].str.replace(r'[^\\d]', '', regex=True)"
      ],
      "metadata": {
        "id": "CLQ1XMsVFn0N"
      },
      "execution_count": 6,
      "outputs": []
    },
    {
      "cell_type": "code",
      "source": [
        "df['SUM de salaire_median'] = df['SUM de salaire_median'].astype(int)"
      ],
      "metadata": {
        "id": "QaBC4I_9FQRz"
      },
      "execution_count": 7,
      "outputs": []
    },
    {
      "cell_type": "code",
      "source": [
        "df['SUM de nb_crea_entreprise'] = df['SUM de nb_crea_entreprise'].str.replace(r'[^\\d]', '', regex=True)"
      ],
      "metadata": {
        "id": "RnMsMoYuK-Au"
      },
      "execution_count": 8,
      "outputs": []
    },
    {
      "cell_type": "code",
      "source": [
        "df['SUM de nb_crea_entreprise'] = df['SUM de nb_crea_entreprise'].astype(int)"
      ],
      "metadata": {
        "id": "Tn1Qx1GLK_Yv"
      },
      "execution_count": 9,
      "outputs": []
    },
    {
      "cell_type": "code",
      "source": [
        "df['AVERAGE de taux_chomage'] = df['AVERAGE de taux_chomage'].str.replace(',', '.')\n",
        "\n",
        "df['AVERAGE de taux_chomage'] = pd.to_numeric(df['AVERAGE de taux_chomage'], errors='coerce')"
      ],
      "metadata": {
        "id": "wrjw0eqmGsCo"
      },
      "execution_count": 10,
      "outputs": []
    },
    {
      "cell_type": "code",
      "source": [
        "df.rename(columns= {'fin_saison': 'annee', 'SUM de nb_clubs': 'nb_clubs', 'SUM de nb_sport': 'nb_sports', 'AVERAGE de score_classement_moyen': 'score_classement_moyen', 'SUM de nb_crea_entreprise': 'nb_crea_entreprise', 'AVERAGE de taux_chomage': 'taux_chomage', 'SUM de salaire_median': 'salaire_median'}, inplace= True)"
      ],
      "metadata": {
        "id": "f-pa9H16HFYB"
      },
      "execution_count": 11,
      "outputs": []
    },
    {
      "cell_type": "code",
      "source": [
        "df.info()"
      ],
      "metadata": {
        "colab": {
          "base_uri": "https://localhost:8080/"
        },
        "id": "LsRJydOmHvPA",
        "outputId": "83ea1061-1264-4759-db36-e0b8fa7ccedb"
      },
      "execution_count": 12,
      "outputs": [
        {
          "output_type": "stream",
          "name": "stdout",
          "text": [
            "<class 'pandas.core.frame.DataFrame'>\n",
            "RangeIndex: 264 entries, 0 to 263\n",
            "Data columns (total 8 columns):\n",
            " #   Column                  Non-Null Count  Dtype  \n",
            "---  ------                  --------------  -----  \n",
            " 0   region                  264 non-null    object \n",
            " 1   annee                   264 non-null    int64  \n",
            " 2   nb_clubs                264 non-null    int64  \n",
            " 3   nb_sports               264 non-null    int64  \n",
            " 4   score_classement_moyen  264 non-null    int64  \n",
            " 5   nb_crea_entreprise      264 non-null    int64  \n",
            " 6   taux_chomage            264 non-null    float64\n",
            " 7   salaire_median          264 non-null    int64  \n",
            "dtypes: float64(1), int64(6), object(1)\n",
            "memory usage: 16.6+ KB\n"
          ]
        }
      ]
    },
    {
      "cell_type": "markdown",
      "source": [
        "Création Score Sportif"
      ],
      "metadata": {
        "id": "nYmHkrgDWDgT"
      }
    },
    {
      "cell_type": "code",
      "source": [
        "# coeff_licencies_foot_annee = licencies_foot / (licencies_foot + licenciés_rugby + licenciés_basket)"
      ],
      "metadata": {
        "id": "ZGgxpaq9Qc88"
      },
      "execution_count": null,
      "outputs": []
    },
    {
      "cell_type": "code",
      "source": [
        "# coeff_licencies_rugby_annee = licencies_rugby / (licencies_foot + licenciés_rugby + licenciés_basket)"
      ],
      "metadata": {
        "id": "9jSn2ReMQhzY"
      },
      "execution_count": null,
      "outputs": []
    },
    {
      "cell_type": "code",
      "source": [
        "# coeff_licencies_basket_annee = licencies_basket / (licencies_foot + licenciés_rugby + licenciés_basket)"
      ],
      "metadata": {
        "id": "h4VYXxUKQhv_"
      },
      "execution_count": null,
      "outputs": []
    },
    {
      "cell_type": "code",
      "source": [
        "# score_presence_pro_foot_annee = si club present en D1 alors +2, si club present en D2 alors +1, sinon 0 (A NORMALISER)"
      ],
      "metadata": {
        "id": "ZzPhSckUQqYK"
      },
      "execution_count": null,
      "outputs": []
    },
    {
      "cell_type": "code",
      "source": [
        "# score_presence_pro_rugby_annee = si club present en D1 alors +2, si club present en D2 alors +1, sinon 0 (A NORMALISER)"
      ],
      "metadata": {
        "id": "NIGDz2LCSEdp"
      },
      "execution_count": null,
      "outputs": []
    },
    {
      "cell_type": "code",
      "source": [
        "# score_presence_pro_basket_annee = si club present en D1 alors +2, si club present en D2 alors +1, sinon 0 (A NORMALISER)"
      ],
      "metadata": {
        "id": "kh4IxWJQSH3t"
      },
      "execution_count": null,
      "outputs": []
    },
    {
      "cell_type": "code",
      "source": [
        "# score_popularite_foot = (coeff_licencies_foot_annee + score_presence_pro_foot_annee)"
      ],
      "metadata": {
        "id": "e0vkQlyFRZxG"
      },
      "execution_count": null,
      "outputs": []
    },
    {
      "cell_type": "code",
      "source": [
        "# score_popularite_rugby = (coeff_licencies_rugby_annee + score_presence_pro_rugby_annee)"
      ],
      "metadata": {
        "id": "mJiGf2RPRtbU"
      },
      "execution_count": null,
      "outputs": []
    },
    {
      "cell_type": "code",
      "source": [
        "# score_popularite_basket = (coeff_licencies_basket_annee + score_presence_pro_basket_annee)"
      ],
      "metadata": {
        "id": "7SLKbkRbRtNh"
      },
      "execution_count": null,
      "outputs": []
    },
    {
      "cell_type": "code",
      "source": [
        "# chaque annee ville sport on a le score de popularite sur 1"
      ],
      "metadata": {
        "id": "SlONLI7JST74"
      },
      "execution_count": null,
      "outputs": []
    },
    {
      "cell_type": "code",
      "source": [
        "# par ville calculer la \"présence sportive pour chaque sport, avec la part du nb de licenciés et la présence des clubs dans les div1 et 2\""
      ],
      "metadata": {
        "id": "HW3uIAQsP65S"
      },
      "execution_count": null,
      "outputs": []
    },
    {
      "cell_type": "code",
      "source": [
        "#j'ai les scores par sport"
      ],
      "metadata": {
        "id": "fMsOe0oNTWLz"
      },
      "execution_count": null,
      "outputs": []
    },
    {
      "cell_type": "code",
      "source": [
        "# score_sportif = (score_foot * score_popularite_foot) + (score_rugby * score_popularite_rugby) + (score_basket * score_popularite_basket) / 3"
      ],
      "metadata": {
        "id": "vXCO8d6HPmdo"
      },
      "execution_count": null,
      "outputs": []
    },
    {
      "cell_type": "code",
      "source": [
        "df['score_sportif_norm'] = (df['score_classement_moyen'] - df['score_classement_moyen'].min()) / (df['score_classement_moyen'].max() - df['score_classement_moyen'].min())"
      ],
      "metadata": {
        "id": "WaGsi7onKgXh"
      },
      "execution_count": 13,
      "outputs": []
    },
    {
      "cell_type": "markdown",
      "source": [
        "Création Score économique"
      ],
      "metadata": {
        "id": "1bXg52rGWKHQ"
      }
    },
    {
      "cell_type": "code",
      "source": [
        "df['salaire_median_norm'] = (df['salaire_median'] - df['salaire_median'].min()) / (df['salaire_median'].max() - df['salaire_median'].min())"
      ],
      "metadata": {
        "id": "zTGpaZYHWMub"
      },
      "execution_count": 14,
      "outputs": []
    },
    {
      "cell_type": "code",
      "source": [
        "df['taux_chomage_norm'] = 1 - (df['taux_chomage'] - df['taux_chomage'].min()) / (df['taux_chomage'].max() - df['taux_chomage'].min())"
      ],
      "metadata": {
        "id": "jpidtcuxWN6D"
      },
      "execution_count": 15,
      "outputs": []
    },
    {
      "cell_type": "code",
      "source": [
        "df['nb_crea_entreprise_norm'] = (df['nb_crea_entreprise'] - df['nb_crea_entreprise'].min()) / (df['nb_crea_entreprise'].max() - df['nb_crea_entreprise'].min())"
      ],
      "metadata": {
        "id": "rHCCl55-WNBR"
      },
      "execution_count": 16,
      "outputs": []
    },
    {
      "cell_type": "code",
      "source": [
        "df['score_economique'] = (0.4 * df['salaire_median_norm']) + (0.5 * df['taux_chomage_norm']) + (0.5 * df['nb_crea_entreprise_norm'])"
      ],
      "metadata": {
        "id": "33CDFysSWM0L"
      },
      "execution_count": 17,
      "outputs": []
    },
    {
      "cell_type": "code",
      "source": [
        "df['score_economique_norm'] = (df['score_economique'] - df['score_economique'].min()) / (df['score_economique'].max() - df['score_economique'].min())"
      ],
      "metadata": {
        "id": "a3BfYAwdKrqX"
      },
      "execution_count": 18,
      "outputs": []
    },
    {
      "cell_type": "markdown",
      "source": [
        "Visualisation"
      ],
      "metadata": {
        "id": "kI4f0p_2WXI3"
      }
    },
    {
      "cell_type": "code",
      "source": [
        "# Pivot des données pour les regrouper par région et année\n",
        "df_grouped = df.groupby(['region', 'annee']).agg({\n",
        "    'score_sportif_norm': 'mean',\n",
        "    'score_economique': 'mean'\n",
        "}).reset_index()\n",
        "\n",
        "# Création de la figure avec des traces pour chaque région\n",
        "fig = go.Figure()\n",
        "\n",
        "regions = df_grouped['region'].unique()\n",
        "\n",
        "# Ajouter une trace pour chaque région\n",
        "for region in regions:\n",
        "    region_data = df_grouped[df_grouped['region'] == region]\n",
        "\n",
        "    # Score Sportif\n",
        "    fig.add_trace(go.Scatter(\n",
        "        x=region_data['annee'],\n",
        "        y=region_data['score_sportif_norm'],\n",
        "        mode='lines+markers',\n",
        "        name=f\"Sportif ({region})\",\n",
        "        line=dict(dash=\"solid\"),\n",
        "        visible=False  # Initialement masqué\n",
        "    ))\n",
        "\n",
        "    # Score Économique\n",
        "    fig.add_trace(go.Scatter(\n",
        "        x=region_data['annee'],\n",
        "        y=region_data['score_economique'],\n",
        "        mode='lines+markers',\n",
        "        name=f\"Économique ({region})\",\n",
        "        line=dict(dash=\"dot\"),\n",
        "        visible=False  # Initialement masqué\n",
        "    ))\n",
        "\n",
        "# Activer la première région par défaut\n",
        "fig.data[0].visible = True\n",
        "fig.data[1].visible = True\n",
        "\n",
        "# Boutons interactifs pour sélectionner la région\n",
        "buttons = []\n",
        "for i, region in enumerate(regions):\n",
        "    # Index des traces pour la région\n",
        "    sportif_idx = 2 * i\n",
        "    economique_idx = 2 * i + 1\n",
        "\n",
        "    # Création du bouton\n",
        "    buttons.append(dict(\n",
        "        label=region,\n",
        "        method=\"update\",\n",
        "        args=[{\"visible\": [j == sportif_idx or j == economique_idx for j in range(len(fig.data))]},\n",
        "              {\"title\": f\"Évolution des Scores pour {region}\"}]\n",
        "    ))\n",
        "\n",
        "# Ajout du menu dropdown\n",
        "fig.update_layout(\n",
        "    updatemenus=[dict(\n",
        "        active=0,\n",
        "        buttons=buttons,\n",
        "        x=1.15,\n",
        "        xanchor=\"right\",\n",
        "        y=1,\n",
        "        yanchor=\"top\"\n",
        "    )],\n",
        "    title=\"Évolution des Scores Sportif et Économique\",\n",
        "    xaxis_title=\"Année\",\n",
        "    yaxis_title=\"Score\",\n",
        "    legend_title=\"Type de Score\",\n",
        "    template=\"plotly_white\"\n",
        ")\n",
        "\n",
        "# Afficher le graphique\n",
        "fig.show()"
      ],
      "metadata": {
        "colab": {
          "base_uri": "https://localhost:8080/",
          "height": 542
        },
        "id": "-GkLPY2_Jae8",
        "outputId": "e2581e41-f667-4533-a3d7-4bd423c385ab"
      },
      "execution_count": 19,
      "outputs": [
        {
          "output_type": "display_data",
          "data": {
            "text/html": [
              "<html>\n",
              "<head><meta charset=\"utf-8\" /></head>\n",
              "<body>\n",
              "    <div>            <script src=\"https://cdnjs.cloudflare.com/ajax/libs/mathjax/2.7.5/MathJax.js?config=TeX-AMS-MML_SVG\"></script><script type=\"text/javascript\">if (window.MathJax && window.MathJax.Hub && window.MathJax.Hub.Config) {window.MathJax.Hub.Config({SVG: {font: \"STIX-Web\"}});}</script>                <script type=\"text/javascript\">window.PlotlyConfig = {MathJaxConfig: 'local'};</script>\n",
              "        <script charset=\"utf-8\" src=\"https://cdn.plot.ly/plotly-2.35.2.min.js\"></script>                <div id=\"4ca5df73-46d3-4e70-b935-3d1bfeb5458c\" class=\"plotly-graph-div\" style=\"height:525px; width:100%;\"></div>            <script type=\"text/javascript\">                                    window.PLOTLYENV=window.PLOTLYENV || {};                                    if (document.getElementById(\"4ca5df73-46d3-4e70-b935-3d1bfeb5458c\")) {                    Plotly.newPlot(                        \"4ca5df73-46d3-4e70-b935-3d1bfeb5458c\",                        [{\"line\":{\"dash\":\"solid\"},\"mode\":\"lines+markers\",\"name\":\"Sportif (Alsace)\",\"visible\":true,\"x\":[2012,2013,2014,2015,2016,2017,2018,2019,2020,2021,2022,2023],\"y\":[0.21052631578947367,0.0,0.3684210526315789,0.39473684210526316,0.4473684210526316,0.2894736842105263,0.18421052631578946,0.34210526315789475,0.47368421052631576,0.4473684210526316,0.2894736842105263,0.39473684210526316],\"type\":\"scatter\"},{\"line\":{\"dash\":\"dot\"},\"mode\":\"lines+markers\",\"name\":\"Économique (Alsace)\",\"visible\":true,\"x\":[2012,2013,2014,2015,2016,2017,2018,2019,2020,2021,2022,2023],\"y\":[0.5239768831618709,0.5109056441104243,0.48854537445436785,0.47969079430371814,0.4817524284328813,0.5083037561214077,0.5287080555113643,0.5316643265066094,0.5452238596600125,0.5818014956708327,0.45710451317758694,0.4465163877331154],\"type\":\"scatter\"},{\"line\":{\"dash\":\"solid\"},\"mode\":\"lines+markers\",\"name\":\"Sportif (Aquitaine)\",\"visible\":false,\"x\":[2012,2013,2014,2015,2016,2017,2018,2019,2020,2021,2022,2023],\"y\":[0.3684210526315789,0.3684210526315789,0.42105263157894735,0.39473684210526316,0.3684210526315789,0.39473684210526316,0.34210526315789475,0.2894736842105263,0.34210526315789475,0.3684210526315789,0.47368421052631576,0.4473684210526316],\"type\":\"scatter\"},{\"line\":{\"dash\":\"dot\"},\"mode\":\"lines+markers\",\"name\":\"Économique (Aquitaine)\",\"visible\":false,\"x\":[2012,2013,2014,2015,2016,2017,2018,2019,2020,2021,2022,2023],\"y\":[0.6055946383043789,0.5806376705853483,0.5455298999470622,0.5329000790288879,0.5314444261712343,0.5484912385911204,0.5793533901548739,0.5856935700918643,0.6220757262854609,0.6736673431067012,0.4559136444811226,0.46332811023956355],\"type\":\"scatter\"},{\"line\":{\"dash\":\"solid\"},\"mode\":\"lines+markers\",\"name\":\"Sportif (Auvergne)\",\"visible\":false,\"x\":[2012,2013,2014,2015,2016,2017,2018,2019,2020,2021,2022,2023],\"y\":[0.7105263157894737,0.631578947368421,0.7368421052631579,0.631578947368421,0.5789473684210527,0.7105263157894737,0.6578947368421053,0.6578947368421053,0.6842105263157895,0.6052631578947368,0.5263157894736842,0.4473684210526316],\"type\":\"scatter\"},{\"line\":{\"dash\":\"dot\"},\"mode\":\"lines+markers\",\"name\":\"Économique (Auvergne)\",\"visible\":false,\"x\":[2012,2013,2014,2015,2016,2017,2018,2019,2020,2021,2022,2023],\"y\":[0.554341839315343,0.5409244439534621,0.5190431381739604,0.5036148121314721,0.49351619914283285,0.5053334904955789,0.5277289396868029,0.530435417302914,0.5668493128061464,0.5975483110280427,0.4694178682878159,0.46074561432604844],\"type\":\"scatter\"},{\"line\":{\"dash\":\"solid\"},\"mode\":\"lines+markers\",\"name\":\"Sportif (Basse-Normandie)\",\"visible\":false,\"x\":[2012,2013,2014,2015,2016,2017,2018,2019,2020,2021,2022,2023],\"y\":[0.42105263157894735,0.5789473684210527,0.5526315789473685,0.2894736842105263,0.13157894736842105,0.39473684210526316,0.5789473684210527,0.6578947368421053,0.8157894736842105,0.9210526315789473,0.6578947368421053,0.6052631578947368],\"type\":\"scatter\"},{\"line\":{\"dash\":\"dot\"},\"mode\":\"lines+markers\",\"name\":\"Économique (Basse-Normandie)\",\"visible\":false,\"x\":[2012,2013,2014,2015,2016,2017,2018,2019,2020,2021,2022,2023],\"y\":[0.4391788512680476,0.41671698243316996,0.40192148017852697,0.39479160295750587,0.40369154585077077,0.4131853433340047,0.44083619472619445,0.44267564103921536,0.47560780076435133,0.5106604515207934,0.43193199850339126,0.43230349712884636],\"type\":\"scatter\"},{\"line\":{\"dash\":\"solid\"},\"mode\":\"lines+markers\",\"name\":\"Sportif (Bourgogne)\",\"visible\":false,\"x\":[2012,2013,2014,2015,2016,2017,2018,2019,2020,2021,2022,2023],\"y\":[0.2631578947368421,0.39473684210526316,0.47368421052631576,0.42105263157894735,0.3684210526315789,0.42105263157894735,0.42105263157894735,0.47368421052631576,0.42105263157894735,0.4473684210526316,0.5,0.4473684210526316],\"type\":\"scatter\"},{\"line\":{\"dash\":\"dot\"},\"mode\":\"lines+markers\",\"name\":\"Économique (Bourgogne)\",\"visible\":false,\"x\":[2012,2013,2014,2015,2016,2017,2018,2019,2020,2021,2022,2023],\"y\":[0.5543250065594802,0.5338942957468202,0.5126642227099242,0.4902412928854407,0.5000675378666083,0.5037544321149849,0.5643734358714848,0.5691526705973967,0.6140772265540829,0.6474183874293171,0.4425940090539522,0.43435693919628926],\"type\":\"scatter\"},{\"line\":{\"dash\":\"solid\"},\"mode\":\"lines+markers\",\"name\":\"Sportif (Bretagne)\",\"visible\":false,\"x\":[2012,2013,2014,2015,2016,2017,2018,2019,2020,2021,2022,2023],\"y\":[0.4473684210526316,0.3684210526315789,0.3684210526315789,0.34210526315789475,0.39473684210526316,0.39473684210526316,0.42105263157894735,0.47368421052631576,0.39473684210526316,0.42105263157894735,0.42105263157894735,0.39473684210526316],\"type\":\"scatter\"},{\"line\":{\"dash\":\"dot\"},\"mode\":\"lines+markers\",\"name\":\"Économique (Bretagne)\",\"visible\":false,\"x\":[2012,2013,2014,2015,2016,2017,2018,2019,2020,2021,2022,2023],\"y\":[0.5891540717860759,0.5643763649835074,0.5357104942109604,0.5200683182714082,0.5236602275125697,0.5376092190959859,0.5634476590470466,0.569218976596621,0.6054697351779887,0.644356322451949,0.4959008277785444,0.4863210557460223],\"type\":\"scatter\"},{\"line\":{\"dash\":\"solid\"},\"mode\":\"lines+markers\",\"name\":\"Sportif (Centre)\",\"visible\":false,\"x\":[2012,2013,2014,2015,2016,2017,2018,2019,2020,2021,2022,2023],\"y\":[0.5,0.6052631578947368,0.6052631578947368,0.8421052631578947,0.47368421052631576,0.7368421052631579,0.7105263157894737,0.7105263157894737,0.6578947368421053,0.5789473684210527,0.6052631578947368,0.5],\"type\":\"scatter\"},{\"line\":{\"dash\":\"dot\"},\"mode\":\"lines+markers\",\"name\":\"Économique (Centre)\",\"visible\":false,\"x\":[2012,2013,2014,2015,2016,2017,2018,2019,2020,2021,2022,2023],\"y\":[0.5071435558106105,0.4789244663258011,0.44958731993452905,0.4265119200631504,0.3932944010149812,0.47619406402647674,0.5468274807088441,0.5628686349522267,0.5212176014578263,0.5598024552332662,0.4411341355492342,0.41938512997144767],\"type\":\"scatter\"},{\"line\":{\"dash\":\"solid\"},\"mode\":\"lines+markers\",\"name\":\"Sportif (Champagne-Ardenne)\",\"visible\":false,\"x\":[2012,2013,2014,2015,2016,2017,2018,2019,2020,2021,2022,2023],\"y\":[0.5526315789473685,0.6052631578947368,0.5526315789473685,0.5526315789473685,0.5526315789473685,0.5526315789473685,0.5789473684210527,0.39473684210526316,0.39473684210526316,0.39473684210526316,0.34210526315789475,0.42105263157894735],\"type\":\"scatter\"},{\"line\":{\"dash\":\"dot\"},\"mode\":\"lines+markers\",\"name\":\"Économique (Champagne-Ardenne)\",\"visible\":false,\"x\":[2012,2013,2014,2015,2016,2017,2018,2019,2020,2021,2022,2023],\"y\":[0.5427478325853147,0.5228687952986368,0.47219934544886427,0.4625362269626722,0.4644742667660876,0.47603518657195854,0.5012748873252992,0.4795825057530804,0.5065567140283609,0.5481842049399899,0.2881855808115653,0.2789242361722904],\"type\":\"scatter\"},{\"line\":{\"dash\":\"solid\"},\"mode\":\"lines+markers\",\"name\":\"Sportif (Corse)\",\"visible\":false,\"x\":[2012,2013,2014,2015,2016,2017,2018,2019,2020,2021,2022,2023],\"y\":[0.4473684210526316,0.47368421052631576,0.5526315789473685,0.5,0.4473684210526316,0.6052631578947368,0.7368421052631579,0.9473684210526315,0.5526315789473685,0.8157894736842105,0.6578947368421053,0.5],\"type\":\"scatter\"},{\"line\":{\"dash\":\"dot\"},\"mode\":\"lines+markers\",\"name\":\"Économique (Corse)\",\"visible\":false,\"x\":[2012,2013,2014,2015,2016,2017,2018,2019,2020,2021,2022,2023],\"y\":[0.34016391690484243,0.32710005433532624,0.3046742187539939,0.29058923723773167,0.26119460920949605,0.2569466550692146,0.2074750586772695,0.21576579472006294,0.2407922672186329,0.3061233652070463,0.45394188235699956,0.43045661824801246],\"type\":\"scatter\"},{\"line\":{\"dash\":\"solid\"},\"mode\":\"lines+markers\",\"name\":\"Sportif (Franche-Comté)\",\"visible\":false,\"x\":[2012,2013,2014,2015,2016,2017,2018,2019,2020,2021,2022,2023],\"y\":[0.3157894736842105,0.34210526315789475,0.42105263157894735,0.7368421052631579,0.868421052631579,0.8157894736842105,0.7368421052631579,0.8947368421052632,0.8421052631578947,0.6578947368421053,0.6052631578947368,0.7105263157894737],\"type\":\"scatter\"},{\"line\":{\"dash\":\"dot\"},\"mode\":\"lines+markers\",\"name\":\"Économique (Franche-Comté)\",\"visible\":false,\"x\":[2012,2013,2014,2015,2016,2017,2018,2019,2020,2021,2022,2023],\"y\":[0.5002356973925433,0.4780725493168991,0.4633182925874956,0.4413625060126497,0.4427152102154273,0.45894245875571915,0.47684479659383994,0.4772406838361252,0.5100212779792666,0.5434924275705957,0.4064941276681562,0.4142164065734028],\"type\":\"scatter\"},{\"line\":{\"dash\":\"solid\"},\"mode\":\"lines+markers\",\"name\":\"Sportif (Haute-Normandie)\",\"visible\":false,\"x\":[2012,2013,2014,2015,2016,2017,2018,2019,2020,2021,2022,2023],\"y\":[0.6578947368421053,0.5,0.6052631578947368,0.5263157894736842,0.47368421052631576,0.6578947368421053,0.7105263157894737,0.6578947368421053,0.7631578947368421,0.7368421052631579,0.6842105263157895,0.6578947368421053],\"type\":\"scatter\"},{\"line\":{\"dash\":\"dot\"},\"mode\":\"lines+markers\",\"name\":\"Économique (Haute-Normandie)\",\"visible\":false,\"x\":[2012,2013,2014,2015,2016,2017,2018,2019,2020,2021,2022,2023],\"y\":[0.46425194791783386,0.4430948381064937,0.42858726129438945,0.41356505304544033,0.41506000626302414,0.4251551167478028,0.44467241948983843,0.44891770418379845,0.4840875169009671,0.5210301587972574,0.3490832442178893,0.35547874231793913],\"type\":\"scatter\"},{\"line\":{\"dash\":\"solid\"},\"mode\":\"lines+markers\",\"name\":\"Sportif (Languedoc-Roussillon)\",\"visible\":false,\"x\":[2012,2013,2014,2015,2016,2017,2018,2019,2020,2021,2022,2023],\"y\":[0.2894736842105263,0.4473684210526316,0.5,0.5263157894736842,0.5526315789473685,0.5,0.4473684210526316,0.39473684210526316,0.42105263157894735,0.42105263157894735,0.47368421052631576,0.5789473684210527],\"type\":\"scatter\"},{\"line\":{\"dash\":\"dot\"},\"mode\":\"lines+markers\",\"name\":\"Économique (Languedoc-Roussillon)\",\"visible\":false,\"x\":[2012,2013,2014,2015,2016,2017,2018,2019,2020,2021,2022,2023],\"y\":[0.2687708946877169,0.2982743320416304,0.2636668752590416,0.23591241125128942,0.2396087298402625,0.23784527675768474,0.27309030668212086,0.2777781002199524,0.3273976753682673,0.3842609477131598,0.16259441703904987,0.1544687967690234],\"type\":\"scatter\"},{\"line\":{\"dash\":\"solid\"},\"mode\":\"lines+markers\",\"name\":\"Sportif (Limousin)\",\"visible\":false,\"x\":[2012,2013,2014,2015,2016,2017,2018,2019,2020,2021,2022,2023],\"y\":[0.3684210526315789,0.34210526315789475,0.10526315789473684,0.13157894736842105,0.18421052631578946,0.18421052631578946,0.18421052631578946,0.23684210526315788,0.21052631578947367,0.21052631578947367,0.15789473684210525,0.34210526315789475],\"type\":\"scatter\"},{\"line\":{\"dash\":\"dot\"},\"mode\":\"lines+markers\",\"name\":\"Économique (Limousin)\",\"visible\":false,\"x\":[2012,2013,2014,2015,2016,2017,2018,2019,2020,2021,2022,2023],\"y\":[0.5223795389557567,0.5012684601367995,0.4791549688023179,0.45720074719570475,0.45846378214728833,0.4608495043006253,0.47308438993525403,0.4750465510665202,0.5015657004553106,0.5312293052586764,0.4415913773842251,0.4419522617632386],\"type\":\"scatter\"},{\"line\":{\"dash\":\"solid\"},\"mode\":\"lines+markers\",\"name\":\"Sportif (Lorraine)\",\"visible\":false,\"x\":[2012,2013,2014,2015,2016,2017,2018,2019,2020,2021,2022,2023],\"y\":[0.5526315789473685,0.3684210526315789,0.42105263157894735,0.42105263157894735,0.5,0.3684210526315789,0.631578947368421,0.6052631578947368,0.5,0.42105263157894735,0.5789473684210527,0.42105263157894735],\"type\":\"scatter\"},{\"line\":{\"dash\":\"dot\"},\"mode\":\"lines+markers\",\"name\":\"Économique (Lorraine)\",\"visible\":false,\"x\":[2012,2013,2014,2015,2016,2017,2018,2019,2020,2021,2022,2023],\"y\":[0.4838891761821121,0.40247841337464785,0.44979849778100384,0.43380819007535315,0.43542973822706027,0.45383466624824165,0.4759511832438913,0.4791290377332238,0.5145262720929104,0.5536675201974313,0.3871794331727045,0.38797019453260173],\"type\":\"scatter\"},{\"line\":{\"dash\":\"solid\"},\"mode\":\"lines+markers\",\"name\":\"Sportif (Midi-Pyrénées)\",\"visible\":false,\"x\":[2012,2013,2014,2015,2016,2017,2018,2019,2020,2021,2022,2023],\"y\":[0.3157894736842105,0.3684210526315789,0.39473684210526316,0.39473684210526316,0.39473684210526316,0.2894736842105263,0.23684210526315788,0.2631578947368421,0.4473684210526316,0.39473684210526316,0.3684210526315789,0.42105263157894735],\"type\":\"scatter\"},{\"line\":{\"dash\":\"dot\"},\"mode\":\"lines+markers\",\"name\":\"Économique (Midi-Pyrénées)\",\"visible\":false,\"x\":[2012,2013,2014,2015,2016,2017,2018,2019,2020,2021,2022,2023],\"y\":[0.6282733397456366,0.6002190477387834,0.5635200067198823,0.5091755943626582,0.5056534055024902,0.5171332777398551,0.547134882107703,0.5584655340982005,0.6821329348505276,0.7065176102870294,0.3999467131659113,0.3992620942704298],\"type\":\"scatter\"},{\"line\":{\"dash\":\"solid\"},\"mode\":\"lines+markers\",\"name\":\"Sportif (Nord-Pas-de-Calais)\",\"visible\":false,\"x\":[2012,2013,2014,2015,2016,2017,2018,2019,2020,2021,2022,2023],\"y\":[0.5789473684210527,0.5,0.5263157894736842,0.5263157894736842,0.6052631578947368,0.5263157894736842,0.5526315789473685,0.5,0.47368421052631576,0.3684210526315789,0.42105263157894735,0.3157894736842105],\"type\":\"scatter\"},{\"line\":{\"dash\":\"dot\"},\"mode\":\"lines+markers\",\"name\":\"Économique (Nord-Pas-de-Calais)\",\"visible\":false,\"x\":[2012,2013,2014,2015,2016,2017,2018,2019,2020,2021,2022,2023],\"y\":[0.37202353679237543,0.35086681067622305,0.32776006816691555,0.31341370545701863,0.31563468261089495,0.32710447597074727,0.35562131964295335,0.35922082960029955,0.39402373945610303,0.4304677876914192,0.2491022669376838,0.2264289926814771],\"type\":\"scatter\"},{\"line\":{\"dash\":\"solid\"},\"mode\":\"lines+markers\",\"name\":\"Sportif (Pays de la Loire)\",\"visible\":false,\"x\":[2012,2013,2014,2015,2016,2017,2018,2019,2020,2021,2022,2023],\"y\":[0.6578947368421053,0.631578947368421,0.5,0.4473684210526316,0.39473684210526316,0.47368421052631576,0.2894736842105263,0.3157894736842105,0.42105263157894735,0.34210526315789475,0.2894736842105263,0.5],\"type\":\"scatter\"},{\"line\":{\"dash\":\"dot\"},\"mode\":\"lines+markers\",\"name\":\"Économique (Pays de la Loire)\",\"visible\":false,\"x\":[2012,2013,2014,2015,2016,2017,2018,2019,2020,2021,2022,2023],\"y\":[0.6216506630302256,0.602870566679838,0.5765265256679627,0.5704722742660385,0.5825507010781213,0.5982016323175324,0.5538300907783181,0.5626425149724118,0.6076553864697942,0.654986551750544,0.46797225767675377,0.5181907453058495],\"type\":\"scatter\"},{\"line\":{\"dash\":\"solid\"},\"mode\":\"lines+markers\",\"name\":\"Sportif (Picardie)\",\"visible\":false,\"x\":[2012,2013,2014,2015,2016,2017,2018,2019,2020,2021,2022,2023],\"y\":[1.0,0.7631578947368421,0.6842105263157895,0.7894736842105263,0.7105263157894737,0.7105263157894737,0.2894736842105263,0.34210526315789475,0.6842105263157895,0.7368421052631579,0.6842105263157895,0.631578947368421],\"type\":\"scatter\"},{\"line\":{\"dash\":\"dot\"},\"mode\":\"lines+markers\",\"name\":\"Économique (Picardie)\",\"visible\":false,\"x\":[2012,2013,2014,2015,2016,2017,2018,2019,2020,2021,2022,2023],\"y\":[0.31950862214723036,0.22371530641038234,0.200616612976492,0.1853329717917448,0.1936663157030757,0.29200361703516675,0.28187206470637344,0.28299229451051033,0.4360465388103002,0.47554696402099295,0.18514811517518814,0.18519057216095444],\"type\":\"scatter\"},{\"line\":{\"dash\":\"solid\"},\"mode\":\"lines+markers\",\"name\":\"Sportif (Poitou-Charentes)\",\"visible\":false,\"x\":[2012,2013,2014,2015,2016,2017,2018,2019,2020,2021,2022,2023],\"y\":[0.3684210526315789,0.5526315789473685,0.5,0.5526315789473685,0.5789473684210527,0.5,0.631578947368421,0.5263157894736842,0.6052631578947368,0.6578947368421053,0.4473684210526316,0.6842105263157895],\"type\":\"scatter\"},{\"line\":{\"dash\":\"dot\"},\"mode\":\"lines+markers\",\"name\":\"Économique (Poitou-Charentes)\",\"visible\":false,\"x\":[2012,2013,2014,2015,2016,2017,2018,2019,2020,2021,2022,2023],\"y\":[0.39928700351161883,0.4460640721878216,0.42291459677096815,0.40922193712317495,0.40266415571036196,0.46550399950545646,0.4984553433629205,0.5040427223022977,0.5495723247827166,0.5906767729869395,0.45775239682952457,0.44499855049197035],\"type\":\"scatter\"},{\"line\":{\"dash\":\"solid\"},\"mode\":\"lines+markers\",\"name\":\"Sportif (Provence-Alpes-Côte d'Azur)\",\"visible\":false,\"x\":[2012,2013,2014,2015,2016,2017,2018,2019,2020,2021,2022,2023],\"y\":[0.42105263157894735,0.42105263157894735,0.4473684210526316,0.42105263157894735,0.2894736842105263,0.21052631578947367,0.2631578947368421,0.2631578947368421,0.2631578947368421,0.3684210526315789,0.2631578947368421,0.2894736842105263],\"type\":\"scatter\"},{\"line\":{\"dash\":\"dot\"},\"mode\":\"lines+markers\",\"name\":\"Économique (Provence-Alpes-Côte d'Azur)\",\"visible\":false,\"x\":[2012,2013,2014,2015,2016,2017,2018,2019,2020,2021,2022,2023],\"y\":[0.46400150818424746,0.4421866987887174,0.4046395096244821,0.3948238737550669,0.3945280752273128,0.4229615002067608,0.45485633782268736,0.4582650801877463,0.504226107406319,0.5601002752449108,0.4086332300213346,0.4072060284939446],\"type\":\"scatter\"},{\"line\":{\"dash\":\"solid\"},\"mode\":\"lines+markers\",\"name\":\"Sportif (Rhône-Alpes)\",\"visible\":false,\"x\":[2012,2013,2014,2015,2016,2017,2018,2019,2020,2021,2022,2023],\"y\":[0.39473684210526316,0.42105263157894735,0.4473684210526316,0.42105263157894735,0.5263157894736842,0.5263157894736842,0.42105263157894735,0.42105263157894735,0.47368421052631576,0.47368421052631576,0.5263157894736842,0.5789473684210527],\"type\":\"scatter\"},{\"line\":{\"dash\":\"dot\"},\"mode\":\"lines+markers\",\"name\":\"Économique (Rhône-Alpes)\",\"visible\":false,\"x\":[2012,2013,2014,2015,2016,2017,2018,2019,2020,2021,2022,2023],\"y\":[0.8767857146886695,0.8641697707796022,0.8427993283835563,0.8154817998105948,0.753020200957068,0.7688811159090685,0.817828288614918,0.8340346305098865,0.8767557231983758,0.9280726758695502,0.5272160888094,0.5436367426735164],\"type\":\"scatter\"},{\"line\":{\"dash\":\"solid\"},\"mode\":\"lines+markers\",\"name\":\"Sportif (Île-de-France)\",\"visible\":false,\"x\":[2012,2013,2014,2015,2016,2017,2018,2019,2020,2021,2022,2023],\"y\":[0.13157894736842105,0.34210526315789475,0.3157894736842105,0.42105263157894735,0.5263157894736842,0.3684210526315789,0.34210526315789475,0.5526315789473685,0.23684210526315788,0.21052631578947367,0.18421052631578946,0.3684210526315789],\"type\":\"scatter\"},{\"line\":{\"dash\":\"dot\"},\"mode\":\"lines+markers\",\"name\":\"Économique (Île-de-France)\",\"visible\":false,\"x\":[2012,2013,2014,2015,2016,2017,2018,2019,2020,2021,2022,2023],\"y\":[0.6583801215576965,0.7699207441139473,0.6973475849850379,0.8124346792703256,0.7256061662172172,0.6852871020360296,0.9118752690278331,0.9257223205055432,0.8510722082098454,0.911221820634617,0.952011333361638,0.953125],\"type\":\"scatter\"}],                        {\"template\":{\"data\":{\"barpolar\":[{\"marker\":{\"line\":{\"color\":\"white\",\"width\":0.5},\"pattern\":{\"fillmode\":\"overlay\",\"size\":10,\"solidity\":0.2}},\"type\":\"barpolar\"}],\"bar\":[{\"error_x\":{\"color\":\"#2a3f5f\"},\"error_y\":{\"color\":\"#2a3f5f\"},\"marker\":{\"line\":{\"color\":\"white\",\"width\":0.5},\"pattern\":{\"fillmode\":\"overlay\",\"size\":10,\"solidity\":0.2}},\"type\":\"bar\"}],\"carpet\":[{\"aaxis\":{\"endlinecolor\":\"#2a3f5f\",\"gridcolor\":\"#C8D4E3\",\"linecolor\":\"#C8D4E3\",\"minorgridcolor\":\"#C8D4E3\",\"startlinecolor\":\"#2a3f5f\"},\"baxis\":{\"endlinecolor\":\"#2a3f5f\",\"gridcolor\":\"#C8D4E3\",\"linecolor\":\"#C8D4E3\",\"minorgridcolor\":\"#C8D4E3\",\"startlinecolor\":\"#2a3f5f\"},\"type\":\"carpet\"}],\"choropleth\":[{\"colorbar\":{\"outlinewidth\":0,\"ticks\":\"\"},\"type\":\"choropleth\"}],\"contourcarpet\":[{\"colorbar\":{\"outlinewidth\":0,\"ticks\":\"\"},\"type\":\"contourcarpet\"}],\"contour\":[{\"colorbar\":{\"outlinewidth\":0,\"ticks\":\"\"},\"colorscale\":[[0.0,\"#0d0887\"],[0.1111111111111111,\"#46039f\"],[0.2222222222222222,\"#7201a8\"],[0.3333333333333333,\"#9c179e\"],[0.4444444444444444,\"#bd3786\"],[0.5555555555555556,\"#d8576b\"],[0.6666666666666666,\"#ed7953\"],[0.7777777777777778,\"#fb9f3a\"],[0.8888888888888888,\"#fdca26\"],[1.0,\"#f0f921\"]],\"type\":\"contour\"}],\"heatmapgl\":[{\"colorbar\":{\"outlinewidth\":0,\"ticks\":\"\"},\"colorscale\":[[0.0,\"#0d0887\"],[0.1111111111111111,\"#46039f\"],[0.2222222222222222,\"#7201a8\"],[0.3333333333333333,\"#9c179e\"],[0.4444444444444444,\"#bd3786\"],[0.5555555555555556,\"#d8576b\"],[0.6666666666666666,\"#ed7953\"],[0.7777777777777778,\"#fb9f3a\"],[0.8888888888888888,\"#fdca26\"],[1.0,\"#f0f921\"]],\"type\":\"heatmapgl\"}],\"heatmap\":[{\"colorbar\":{\"outlinewidth\":0,\"ticks\":\"\"},\"colorscale\":[[0.0,\"#0d0887\"],[0.1111111111111111,\"#46039f\"],[0.2222222222222222,\"#7201a8\"],[0.3333333333333333,\"#9c179e\"],[0.4444444444444444,\"#bd3786\"],[0.5555555555555556,\"#d8576b\"],[0.6666666666666666,\"#ed7953\"],[0.7777777777777778,\"#fb9f3a\"],[0.8888888888888888,\"#fdca26\"],[1.0,\"#f0f921\"]],\"type\":\"heatmap\"}],\"histogram2dcontour\":[{\"colorbar\":{\"outlinewidth\":0,\"ticks\":\"\"},\"colorscale\":[[0.0,\"#0d0887\"],[0.1111111111111111,\"#46039f\"],[0.2222222222222222,\"#7201a8\"],[0.3333333333333333,\"#9c179e\"],[0.4444444444444444,\"#bd3786\"],[0.5555555555555556,\"#d8576b\"],[0.6666666666666666,\"#ed7953\"],[0.7777777777777778,\"#fb9f3a\"],[0.8888888888888888,\"#fdca26\"],[1.0,\"#f0f921\"]],\"type\":\"histogram2dcontour\"}],\"histogram2d\":[{\"colorbar\":{\"outlinewidth\":0,\"ticks\":\"\"},\"colorscale\":[[0.0,\"#0d0887\"],[0.1111111111111111,\"#46039f\"],[0.2222222222222222,\"#7201a8\"],[0.3333333333333333,\"#9c179e\"],[0.4444444444444444,\"#bd3786\"],[0.5555555555555556,\"#d8576b\"],[0.6666666666666666,\"#ed7953\"],[0.7777777777777778,\"#fb9f3a\"],[0.8888888888888888,\"#fdca26\"],[1.0,\"#f0f921\"]],\"type\":\"histogram2d\"}],\"histogram\":[{\"marker\":{\"pattern\":{\"fillmode\":\"overlay\",\"size\":10,\"solidity\":0.2}},\"type\":\"histogram\"}],\"mesh3d\":[{\"colorbar\":{\"outlinewidth\":0,\"ticks\":\"\"},\"type\":\"mesh3d\"}],\"parcoords\":[{\"line\":{\"colorbar\":{\"outlinewidth\":0,\"ticks\":\"\"}},\"type\":\"parcoords\"}],\"pie\":[{\"automargin\":true,\"type\":\"pie\"}],\"scatter3d\":[{\"line\":{\"colorbar\":{\"outlinewidth\":0,\"ticks\":\"\"}},\"marker\":{\"colorbar\":{\"outlinewidth\":0,\"ticks\":\"\"}},\"type\":\"scatter3d\"}],\"scattercarpet\":[{\"marker\":{\"colorbar\":{\"outlinewidth\":0,\"ticks\":\"\"}},\"type\":\"scattercarpet\"}],\"scattergeo\":[{\"marker\":{\"colorbar\":{\"outlinewidth\":0,\"ticks\":\"\"}},\"type\":\"scattergeo\"}],\"scattergl\":[{\"marker\":{\"colorbar\":{\"outlinewidth\":0,\"ticks\":\"\"}},\"type\":\"scattergl\"}],\"scattermapbox\":[{\"marker\":{\"colorbar\":{\"outlinewidth\":0,\"ticks\":\"\"}},\"type\":\"scattermapbox\"}],\"scatterpolargl\":[{\"marker\":{\"colorbar\":{\"outlinewidth\":0,\"ticks\":\"\"}},\"type\":\"scatterpolargl\"}],\"scatterpolar\":[{\"marker\":{\"colorbar\":{\"outlinewidth\":0,\"ticks\":\"\"}},\"type\":\"scatterpolar\"}],\"scatter\":[{\"fillpattern\":{\"fillmode\":\"overlay\",\"size\":10,\"solidity\":0.2},\"type\":\"scatter\"}],\"scatterternary\":[{\"marker\":{\"colorbar\":{\"outlinewidth\":0,\"ticks\":\"\"}},\"type\":\"scatterternary\"}],\"surface\":[{\"colorbar\":{\"outlinewidth\":0,\"ticks\":\"\"},\"colorscale\":[[0.0,\"#0d0887\"],[0.1111111111111111,\"#46039f\"],[0.2222222222222222,\"#7201a8\"],[0.3333333333333333,\"#9c179e\"],[0.4444444444444444,\"#bd3786\"],[0.5555555555555556,\"#d8576b\"],[0.6666666666666666,\"#ed7953\"],[0.7777777777777778,\"#fb9f3a\"],[0.8888888888888888,\"#fdca26\"],[1.0,\"#f0f921\"]],\"type\":\"surface\"}],\"table\":[{\"cells\":{\"fill\":{\"color\":\"#EBF0F8\"},\"line\":{\"color\":\"white\"}},\"header\":{\"fill\":{\"color\":\"#C8D4E3\"},\"line\":{\"color\":\"white\"}},\"type\":\"table\"}]},\"layout\":{\"annotationdefaults\":{\"arrowcolor\":\"#2a3f5f\",\"arrowhead\":0,\"arrowwidth\":1},\"autotypenumbers\":\"strict\",\"coloraxis\":{\"colorbar\":{\"outlinewidth\":0,\"ticks\":\"\"}},\"colorscale\":{\"diverging\":[[0,\"#8e0152\"],[0.1,\"#c51b7d\"],[0.2,\"#de77ae\"],[0.3,\"#f1b6da\"],[0.4,\"#fde0ef\"],[0.5,\"#f7f7f7\"],[0.6,\"#e6f5d0\"],[0.7,\"#b8e186\"],[0.8,\"#7fbc41\"],[0.9,\"#4d9221\"],[1,\"#276419\"]],\"sequential\":[[0.0,\"#0d0887\"],[0.1111111111111111,\"#46039f\"],[0.2222222222222222,\"#7201a8\"],[0.3333333333333333,\"#9c179e\"],[0.4444444444444444,\"#bd3786\"],[0.5555555555555556,\"#d8576b\"],[0.6666666666666666,\"#ed7953\"],[0.7777777777777778,\"#fb9f3a\"],[0.8888888888888888,\"#fdca26\"],[1.0,\"#f0f921\"]],\"sequentialminus\":[[0.0,\"#0d0887\"],[0.1111111111111111,\"#46039f\"],[0.2222222222222222,\"#7201a8\"],[0.3333333333333333,\"#9c179e\"],[0.4444444444444444,\"#bd3786\"],[0.5555555555555556,\"#d8576b\"],[0.6666666666666666,\"#ed7953\"],[0.7777777777777778,\"#fb9f3a\"],[0.8888888888888888,\"#fdca26\"],[1.0,\"#f0f921\"]]},\"colorway\":[\"#636efa\",\"#EF553B\",\"#00cc96\",\"#ab63fa\",\"#FFA15A\",\"#19d3f3\",\"#FF6692\",\"#B6E880\",\"#FF97FF\",\"#FECB52\"],\"font\":{\"color\":\"#2a3f5f\"},\"geo\":{\"bgcolor\":\"white\",\"lakecolor\":\"white\",\"landcolor\":\"white\",\"showlakes\":true,\"showland\":true,\"subunitcolor\":\"#C8D4E3\"},\"hoverlabel\":{\"align\":\"left\"},\"hovermode\":\"closest\",\"mapbox\":{\"style\":\"light\"},\"paper_bgcolor\":\"white\",\"plot_bgcolor\":\"white\",\"polar\":{\"angularaxis\":{\"gridcolor\":\"#EBF0F8\",\"linecolor\":\"#EBF0F8\",\"ticks\":\"\"},\"bgcolor\":\"white\",\"radialaxis\":{\"gridcolor\":\"#EBF0F8\",\"linecolor\":\"#EBF0F8\",\"ticks\":\"\"}},\"scene\":{\"xaxis\":{\"backgroundcolor\":\"white\",\"gridcolor\":\"#DFE8F3\",\"gridwidth\":2,\"linecolor\":\"#EBF0F8\",\"showbackground\":true,\"ticks\":\"\",\"zerolinecolor\":\"#EBF0F8\"},\"yaxis\":{\"backgroundcolor\":\"white\",\"gridcolor\":\"#DFE8F3\",\"gridwidth\":2,\"linecolor\":\"#EBF0F8\",\"showbackground\":true,\"ticks\":\"\",\"zerolinecolor\":\"#EBF0F8\"},\"zaxis\":{\"backgroundcolor\":\"white\",\"gridcolor\":\"#DFE8F3\",\"gridwidth\":2,\"linecolor\":\"#EBF0F8\",\"showbackground\":true,\"ticks\":\"\",\"zerolinecolor\":\"#EBF0F8\"}},\"shapedefaults\":{\"line\":{\"color\":\"#2a3f5f\"}},\"ternary\":{\"aaxis\":{\"gridcolor\":\"#DFE8F3\",\"linecolor\":\"#A2B1C6\",\"ticks\":\"\"},\"baxis\":{\"gridcolor\":\"#DFE8F3\",\"linecolor\":\"#A2B1C6\",\"ticks\":\"\"},\"bgcolor\":\"white\",\"caxis\":{\"gridcolor\":\"#DFE8F3\",\"linecolor\":\"#A2B1C6\",\"ticks\":\"\"}},\"title\":{\"x\":0.05},\"xaxis\":{\"automargin\":true,\"gridcolor\":\"#EBF0F8\",\"linecolor\":\"#EBF0F8\",\"ticks\":\"\",\"title\":{\"standoff\":15},\"zerolinecolor\":\"#EBF0F8\",\"zerolinewidth\":2},\"yaxis\":{\"automargin\":true,\"gridcolor\":\"#EBF0F8\",\"linecolor\":\"#EBF0F8\",\"ticks\":\"\",\"title\":{\"standoff\":15},\"zerolinecolor\":\"#EBF0F8\",\"zerolinewidth\":2}}},\"updatemenus\":[{\"active\":0,\"buttons\":[{\"args\":[{\"visible\":[true,true,false,false,false,false,false,false,false,false,false,false,false,false,false,false,false,false,false,false,false,false,false,false,false,false,false,false,false,false,false,false,false,false,false,false,false,false,false,false,false,false,false,false]},{\"title\":\"Évolution des Scores pour Alsace\"}],\"label\":\"Alsace\",\"method\":\"update\"},{\"args\":[{\"visible\":[false,false,true,true,false,false,false,false,false,false,false,false,false,false,false,false,false,false,false,false,false,false,false,false,false,false,false,false,false,false,false,false,false,false,false,false,false,false,false,false,false,false,false,false]},{\"title\":\"Évolution des Scores pour Aquitaine\"}],\"label\":\"Aquitaine\",\"method\":\"update\"},{\"args\":[{\"visible\":[false,false,false,false,true,true,false,false,false,false,false,false,false,false,false,false,false,false,false,false,false,false,false,false,false,false,false,false,false,false,false,false,false,false,false,false,false,false,false,false,false,false,false,false]},{\"title\":\"Évolution des Scores pour Auvergne\"}],\"label\":\"Auvergne\",\"method\":\"update\"},{\"args\":[{\"visible\":[false,false,false,false,false,false,true,true,false,false,false,false,false,false,false,false,false,false,false,false,false,false,false,false,false,false,false,false,false,false,false,false,false,false,false,false,false,false,false,false,false,false,false,false]},{\"title\":\"Évolution des Scores pour Basse-Normandie\"}],\"label\":\"Basse-Normandie\",\"method\":\"update\"},{\"args\":[{\"visible\":[false,false,false,false,false,false,false,false,true,true,false,false,false,false,false,false,false,false,false,false,false,false,false,false,false,false,false,false,false,false,false,false,false,false,false,false,false,false,false,false,false,false,false,false]},{\"title\":\"Évolution des Scores pour Bourgogne\"}],\"label\":\"Bourgogne\",\"method\":\"update\"},{\"args\":[{\"visible\":[false,false,false,false,false,false,false,false,false,false,true,true,false,false,false,false,false,false,false,false,false,false,false,false,false,false,false,false,false,false,false,false,false,false,false,false,false,false,false,false,false,false,false,false]},{\"title\":\"Évolution des Scores pour Bretagne\"}],\"label\":\"Bretagne\",\"method\":\"update\"},{\"args\":[{\"visible\":[false,false,false,false,false,false,false,false,false,false,false,false,true,true,false,false,false,false,false,false,false,false,false,false,false,false,false,false,false,false,false,false,false,false,false,false,false,false,false,false,false,false,false,false]},{\"title\":\"Évolution des Scores pour Centre\"}],\"label\":\"Centre\",\"method\":\"update\"},{\"args\":[{\"visible\":[false,false,false,false,false,false,false,false,false,false,false,false,false,false,true,true,false,false,false,false,false,false,false,false,false,false,false,false,false,false,false,false,false,false,false,false,false,false,false,false,false,false,false,false]},{\"title\":\"Évolution des Scores pour Champagne-Ardenne\"}],\"label\":\"Champagne-Ardenne\",\"method\":\"update\"},{\"args\":[{\"visible\":[false,false,false,false,false,false,false,false,false,false,false,false,false,false,false,false,true,true,false,false,false,false,false,false,false,false,false,false,false,false,false,false,false,false,false,false,false,false,false,false,false,false,false,false]},{\"title\":\"Évolution des Scores pour Corse\"}],\"label\":\"Corse\",\"method\":\"update\"},{\"args\":[{\"visible\":[false,false,false,false,false,false,false,false,false,false,false,false,false,false,false,false,false,false,true,true,false,false,false,false,false,false,false,false,false,false,false,false,false,false,false,false,false,false,false,false,false,false,false,false]},{\"title\":\"Évolution des Scores pour Franche-Comté\"}],\"label\":\"Franche-Comté\",\"method\":\"update\"},{\"args\":[{\"visible\":[false,false,false,false,false,false,false,false,false,false,false,false,false,false,false,false,false,false,false,false,true,true,false,false,false,false,false,false,false,false,false,false,false,false,false,false,false,false,false,false,false,false,false,false]},{\"title\":\"Évolution des Scores pour Haute-Normandie\"}],\"label\":\"Haute-Normandie\",\"method\":\"update\"},{\"args\":[{\"visible\":[false,false,false,false,false,false,false,false,false,false,false,false,false,false,false,false,false,false,false,false,false,false,true,true,false,false,false,false,false,false,false,false,false,false,false,false,false,false,false,false,false,false,false,false]},{\"title\":\"Évolution des Scores pour Languedoc-Roussillon\"}],\"label\":\"Languedoc-Roussillon\",\"method\":\"update\"},{\"args\":[{\"visible\":[false,false,false,false,false,false,false,false,false,false,false,false,false,false,false,false,false,false,false,false,false,false,false,false,true,true,false,false,false,false,false,false,false,false,false,false,false,false,false,false,false,false,false,false]},{\"title\":\"Évolution des Scores pour Limousin\"}],\"label\":\"Limousin\",\"method\":\"update\"},{\"args\":[{\"visible\":[false,false,false,false,false,false,false,false,false,false,false,false,false,false,false,false,false,false,false,false,false,false,false,false,false,false,true,true,false,false,false,false,false,false,false,false,false,false,false,false,false,false,false,false]},{\"title\":\"Évolution des Scores pour Lorraine\"}],\"label\":\"Lorraine\",\"method\":\"update\"},{\"args\":[{\"visible\":[false,false,false,false,false,false,false,false,false,false,false,false,false,false,false,false,false,false,false,false,false,false,false,false,false,false,false,false,true,true,false,false,false,false,false,false,false,false,false,false,false,false,false,false]},{\"title\":\"Évolution des Scores pour Midi-Pyrénées\"}],\"label\":\"Midi-Pyrénées\",\"method\":\"update\"},{\"args\":[{\"visible\":[false,false,false,false,false,false,false,false,false,false,false,false,false,false,false,false,false,false,false,false,false,false,false,false,false,false,false,false,false,false,true,true,false,false,false,false,false,false,false,false,false,false,false,false]},{\"title\":\"Évolution des Scores pour Nord-Pas-de-Calais\"}],\"label\":\"Nord-Pas-de-Calais\",\"method\":\"update\"},{\"args\":[{\"visible\":[false,false,false,false,false,false,false,false,false,false,false,false,false,false,false,false,false,false,false,false,false,false,false,false,false,false,false,false,false,false,false,false,true,true,false,false,false,false,false,false,false,false,false,false]},{\"title\":\"Évolution des Scores pour Pays de la Loire\"}],\"label\":\"Pays de la Loire\",\"method\":\"update\"},{\"args\":[{\"visible\":[false,false,false,false,false,false,false,false,false,false,false,false,false,false,false,false,false,false,false,false,false,false,false,false,false,false,false,false,false,false,false,false,false,false,true,true,false,false,false,false,false,false,false,false]},{\"title\":\"Évolution des Scores pour Picardie\"}],\"label\":\"Picardie\",\"method\":\"update\"},{\"args\":[{\"visible\":[false,false,false,false,false,false,false,false,false,false,false,false,false,false,false,false,false,false,false,false,false,false,false,false,false,false,false,false,false,false,false,false,false,false,false,false,true,true,false,false,false,false,false,false]},{\"title\":\"Évolution des Scores pour Poitou-Charentes\"}],\"label\":\"Poitou-Charentes\",\"method\":\"update\"},{\"args\":[{\"visible\":[false,false,false,false,false,false,false,false,false,false,false,false,false,false,false,false,false,false,false,false,false,false,false,false,false,false,false,false,false,false,false,false,false,false,false,false,false,false,true,true,false,false,false,false]},{\"title\":\"Évolution des Scores pour Provence-Alpes-Côte d'Azur\"}],\"label\":\"Provence-Alpes-Côte d'Azur\",\"method\":\"update\"},{\"args\":[{\"visible\":[false,false,false,false,false,false,false,false,false,false,false,false,false,false,false,false,false,false,false,false,false,false,false,false,false,false,false,false,false,false,false,false,false,false,false,false,false,false,false,false,true,true,false,false]},{\"title\":\"Évolution des Scores pour Rhône-Alpes\"}],\"label\":\"Rhône-Alpes\",\"method\":\"update\"},{\"args\":[{\"visible\":[false,false,false,false,false,false,false,false,false,false,false,false,false,false,false,false,false,false,false,false,false,false,false,false,false,false,false,false,false,false,false,false,false,false,false,false,false,false,false,false,false,false,true,true]},{\"title\":\"Évolution des Scores pour Île-de-France\"}],\"label\":\"Île-de-France\",\"method\":\"update\"}],\"x\":1.15,\"xanchor\":\"right\",\"y\":1,\"yanchor\":\"top\"}],\"title\":{\"text\":\"Évolution des Scores Sportif et Économique\"},\"xaxis\":{\"title\":{\"text\":\"Année\"}},\"yaxis\":{\"title\":{\"text\":\"Score\"}},\"legend\":{\"title\":{\"text\":\"Type de Score\"}}},                        {\"responsive\": true}                    ).then(function(){\n",
              "                            \n",
              "var gd = document.getElementById('4ca5df73-46d3-4e70-b935-3d1bfeb5458c');\n",
              "var x = new MutationObserver(function (mutations, observer) {{\n",
              "        var display = window.getComputedStyle(gd).display;\n",
              "        if (!display || display === 'none') {{\n",
              "            console.log([gd, 'removed!']);\n",
              "            Plotly.purge(gd);\n",
              "            observer.disconnect();\n",
              "        }}\n",
              "}});\n",
              "\n",
              "// Listen for the removal of the full notebook cells\n",
              "var notebookContainer = gd.closest('#notebook-container');\n",
              "if (notebookContainer) {{\n",
              "    x.observe(notebookContainer, {childList: true});\n",
              "}}\n",
              "\n",
              "// Listen for the clearing of the current output cell\n",
              "var outputEl = gd.closest('.output');\n",
              "if (outputEl) {{\n",
              "    x.observe(outputEl, {childList: true});\n",
              "}}\n",
              "\n",
              "                        })                };                            </script>        </div>\n",
              "</body>\n",
              "</html>"
            ]
          },
          "metadata": {}
        }
      ]
    },
    {
      "cell_type": "code",
      "source": [
        "# Calcul de la corrélation par région\n",
        "correlation_by_region = df.groupby('region').apply(\n",
        "    lambda group: group['score_sportif_norm'].corr(group['score_economique_norm'])\n",
        ")\n",
        "\n",
        "# Convertir en DataFrame pour une visualisation plus simple\n",
        "correlation_by_region = correlation_by_region.reset_index(name='correlation')\n",
        "\n",
        "# Trier les régions par corrélation décroissante\n",
        "correlation_by_region = correlation_by_region.sort_values(by='correlation', ascending=False)\n",
        "\n",
        "# Afficher les résultats\n",
        "correlation_by_region"
      ],
      "metadata": {
        "colab": {
          "base_uri": "https://localhost:8080/",
          "height": 829
        },
        "id": "7ZKd-2fjN5g6",
        "outputId": "59f33e63-f88b-4610-8d8e-43a00b87e5e0"
      },
      "execution_count": null,
      "outputs": [
        {
          "output_type": "stream",
          "name": "stderr",
          "text": [
            "<ipython-input-105-2b5b1c02440e>:2: DeprecationWarning:\n",
            "\n",
            "DataFrameGroupBy.apply operated on the grouping columns. This behavior is deprecated, and in a future version of pandas the grouping columns will be excluded from the operation. Either pass `include_groups=False` to exclude the groupings or explicitly select the grouping columns after groupby to silence this warning.\n",
            "\n"
          ]
        },
        {
          "output_type": "execute_result",
          "data": {
            "text/plain": [
              "                        region  correlation\n",
              "3              Basse-Normandie     0.826063\n",
              "2                     Auvergne     0.552591\n",
              "18            Poitou-Charentes     0.507058\n",
              "7            Champagne-Ardenne     0.460964\n",
              "16            Pays de la Loire     0.379258\n",
              "12                    Limousin     0.346592\n",
              "5                     Bretagne     0.344032\n",
              "10             Haute-Normandie     0.308918\n",
              "15          Nord-Pas-de-Calais     0.258272\n",
              "6                       Centre     0.245170\n",
              "13                    Lorraine     0.158398\n",
              "14               Midi-Pyrénées     0.041573\n",
              "17                    Picardie     0.039485\n",
              "21               Île-de-France     0.034912\n",
              "0                       Alsace     0.012173\n",
              "19  Provence-Alpes-Côte d'Azur    -0.007700\n",
              "9                Franche-Comté    -0.125116\n",
              "4                    Bourgogne    -0.175656\n",
              "8                        Corse    -0.335493\n",
              "11        Languedoc-Roussillon    -0.530816\n",
              "1                    Aquitaine    -0.727048\n",
              "20                 Rhône-Alpes    -0.742030"
            ],
            "text/html": [
              "\n",
              "  <div id=\"df-0e47ebca-053a-486a-a8d6-6149fc94ecf8\" class=\"colab-df-container\">\n",
              "    <div>\n",
              "<style scoped>\n",
              "    .dataframe tbody tr th:only-of-type {\n",
              "        vertical-align: middle;\n",
              "    }\n",
              "\n",
              "    .dataframe tbody tr th {\n",
              "        vertical-align: top;\n",
              "    }\n",
              "\n",
              "    .dataframe thead th {\n",
              "        text-align: right;\n",
              "    }\n",
              "</style>\n",
              "<table border=\"1\" class=\"dataframe\">\n",
              "  <thead>\n",
              "    <tr style=\"text-align: right;\">\n",
              "      <th></th>\n",
              "      <th>region</th>\n",
              "      <th>correlation</th>\n",
              "    </tr>\n",
              "  </thead>\n",
              "  <tbody>\n",
              "    <tr>\n",
              "      <th>3</th>\n",
              "      <td>Basse-Normandie</td>\n",
              "      <td>0.826063</td>\n",
              "    </tr>\n",
              "    <tr>\n",
              "      <th>2</th>\n",
              "      <td>Auvergne</td>\n",
              "      <td>0.552591</td>\n",
              "    </tr>\n",
              "    <tr>\n",
              "      <th>18</th>\n",
              "      <td>Poitou-Charentes</td>\n",
              "      <td>0.507058</td>\n",
              "    </tr>\n",
              "    <tr>\n",
              "      <th>7</th>\n",
              "      <td>Champagne-Ardenne</td>\n",
              "      <td>0.460964</td>\n",
              "    </tr>\n",
              "    <tr>\n",
              "      <th>16</th>\n",
              "      <td>Pays de la Loire</td>\n",
              "      <td>0.379258</td>\n",
              "    </tr>\n",
              "    <tr>\n",
              "      <th>12</th>\n",
              "      <td>Limousin</td>\n",
              "      <td>0.346592</td>\n",
              "    </tr>\n",
              "    <tr>\n",
              "      <th>5</th>\n",
              "      <td>Bretagne</td>\n",
              "      <td>0.344032</td>\n",
              "    </tr>\n",
              "    <tr>\n",
              "      <th>10</th>\n",
              "      <td>Haute-Normandie</td>\n",
              "      <td>0.308918</td>\n",
              "    </tr>\n",
              "    <tr>\n",
              "      <th>15</th>\n",
              "      <td>Nord-Pas-de-Calais</td>\n",
              "      <td>0.258272</td>\n",
              "    </tr>\n",
              "    <tr>\n",
              "      <th>6</th>\n",
              "      <td>Centre</td>\n",
              "      <td>0.245170</td>\n",
              "    </tr>\n",
              "    <tr>\n",
              "      <th>13</th>\n",
              "      <td>Lorraine</td>\n",
              "      <td>0.158398</td>\n",
              "    </tr>\n",
              "    <tr>\n",
              "      <th>14</th>\n",
              "      <td>Midi-Pyrénées</td>\n",
              "      <td>0.041573</td>\n",
              "    </tr>\n",
              "    <tr>\n",
              "      <th>17</th>\n",
              "      <td>Picardie</td>\n",
              "      <td>0.039485</td>\n",
              "    </tr>\n",
              "    <tr>\n",
              "      <th>21</th>\n",
              "      <td>Île-de-France</td>\n",
              "      <td>0.034912</td>\n",
              "    </tr>\n",
              "    <tr>\n",
              "      <th>0</th>\n",
              "      <td>Alsace</td>\n",
              "      <td>0.012173</td>\n",
              "    </tr>\n",
              "    <tr>\n",
              "      <th>19</th>\n",
              "      <td>Provence-Alpes-Côte d'Azur</td>\n",
              "      <td>-0.007700</td>\n",
              "    </tr>\n",
              "    <tr>\n",
              "      <th>9</th>\n",
              "      <td>Franche-Comté</td>\n",
              "      <td>-0.125116</td>\n",
              "    </tr>\n",
              "    <tr>\n",
              "      <th>4</th>\n",
              "      <td>Bourgogne</td>\n",
              "      <td>-0.175656</td>\n",
              "    </tr>\n",
              "    <tr>\n",
              "      <th>8</th>\n",
              "      <td>Corse</td>\n",
              "      <td>-0.335493</td>\n",
              "    </tr>\n",
              "    <tr>\n",
              "      <th>11</th>\n",
              "      <td>Languedoc-Roussillon</td>\n",
              "      <td>-0.530816</td>\n",
              "    </tr>\n",
              "    <tr>\n",
              "      <th>1</th>\n",
              "      <td>Aquitaine</td>\n",
              "      <td>-0.727048</td>\n",
              "    </tr>\n",
              "    <tr>\n",
              "      <th>20</th>\n",
              "      <td>Rhône-Alpes</td>\n",
              "      <td>-0.742030</td>\n",
              "    </tr>\n",
              "  </tbody>\n",
              "</table>\n",
              "</div>\n",
              "    <div class=\"colab-df-buttons\">\n",
              "\n",
              "  <div class=\"colab-df-container\">\n",
              "    <button class=\"colab-df-convert\" onclick=\"convertToInteractive('df-0e47ebca-053a-486a-a8d6-6149fc94ecf8')\"\n",
              "            title=\"Convert this dataframe to an interactive table.\"\n",
              "            style=\"display:none;\">\n",
              "\n",
              "  <svg xmlns=\"http://www.w3.org/2000/svg\" height=\"24px\" viewBox=\"0 -960 960 960\">\n",
              "    <path d=\"M120-120v-720h720v720H120Zm60-500h600v-160H180v160Zm220 220h160v-160H400v160Zm0 220h160v-160H400v160ZM180-400h160v-160H180v160Zm440 0h160v-160H620v160ZM180-180h160v-160H180v160Zm440 0h160v-160H620v160Z\"/>\n",
              "  </svg>\n",
              "    </button>\n",
              "\n",
              "  <style>\n",
              "    .colab-df-container {\n",
              "      display:flex;\n",
              "      gap: 12px;\n",
              "    }\n",
              "\n",
              "    .colab-df-convert {\n",
              "      background-color: #E8F0FE;\n",
              "      border: none;\n",
              "      border-radius: 50%;\n",
              "      cursor: pointer;\n",
              "      display: none;\n",
              "      fill: #1967D2;\n",
              "      height: 32px;\n",
              "      padding: 0 0 0 0;\n",
              "      width: 32px;\n",
              "    }\n",
              "\n",
              "    .colab-df-convert:hover {\n",
              "      background-color: #E2EBFA;\n",
              "      box-shadow: 0px 1px 2px rgba(60, 64, 67, 0.3), 0px 1px 3px 1px rgba(60, 64, 67, 0.15);\n",
              "      fill: #174EA6;\n",
              "    }\n",
              "\n",
              "    .colab-df-buttons div {\n",
              "      margin-bottom: 4px;\n",
              "    }\n",
              "\n",
              "    [theme=dark] .colab-df-convert {\n",
              "      background-color: #3B4455;\n",
              "      fill: #D2E3FC;\n",
              "    }\n",
              "\n",
              "    [theme=dark] .colab-df-convert:hover {\n",
              "      background-color: #434B5C;\n",
              "      box-shadow: 0px 1px 3px 1px rgba(0, 0, 0, 0.15);\n",
              "      filter: drop-shadow(0px 1px 2px rgba(0, 0, 0, 0.3));\n",
              "      fill: #FFFFFF;\n",
              "    }\n",
              "  </style>\n",
              "\n",
              "    <script>\n",
              "      const buttonEl =\n",
              "        document.querySelector('#df-0e47ebca-053a-486a-a8d6-6149fc94ecf8 button.colab-df-convert');\n",
              "      buttonEl.style.display =\n",
              "        google.colab.kernel.accessAllowed ? 'block' : 'none';\n",
              "\n",
              "      async function convertToInteractive(key) {\n",
              "        const element = document.querySelector('#df-0e47ebca-053a-486a-a8d6-6149fc94ecf8');\n",
              "        const dataTable =\n",
              "          await google.colab.kernel.invokeFunction('convertToInteractive',\n",
              "                                                    [key], {});\n",
              "        if (!dataTable) return;\n",
              "\n",
              "        const docLinkHtml = 'Like what you see? Visit the ' +\n",
              "          '<a target=\"_blank\" href=https://colab.research.google.com/notebooks/data_table.ipynb>data table notebook</a>'\n",
              "          + ' to learn more about interactive tables.';\n",
              "        element.innerHTML = '';\n",
              "        dataTable['output_type'] = 'display_data';\n",
              "        await google.colab.output.renderOutput(dataTable, element);\n",
              "        const docLink = document.createElement('div');\n",
              "        docLink.innerHTML = docLinkHtml;\n",
              "        element.appendChild(docLink);\n",
              "      }\n",
              "    </script>\n",
              "  </div>\n",
              "\n",
              "\n",
              "<div id=\"df-9df8645d-5437-4711-b674-86dada97f68b\">\n",
              "  <button class=\"colab-df-quickchart\" onclick=\"quickchart('df-9df8645d-5437-4711-b674-86dada97f68b')\"\n",
              "            title=\"Suggest charts\"\n",
              "            style=\"display:none;\">\n",
              "\n",
              "<svg xmlns=\"http://www.w3.org/2000/svg\" height=\"24px\"viewBox=\"0 0 24 24\"\n",
              "     width=\"24px\">\n",
              "    <g>\n",
              "        <path d=\"M19 3H5c-1.1 0-2 .9-2 2v14c0 1.1.9 2 2 2h14c1.1 0 2-.9 2-2V5c0-1.1-.9-2-2-2zM9 17H7v-7h2v7zm4 0h-2V7h2v10zm4 0h-2v-4h2v4z\"/>\n",
              "    </g>\n",
              "</svg>\n",
              "  </button>\n",
              "\n",
              "<style>\n",
              "  .colab-df-quickchart {\n",
              "      --bg-color: #E8F0FE;\n",
              "      --fill-color: #1967D2;\n",
              "      --hover-bg-color: #E2EBFA;\n",
              "      --hover-fill-color: #174EA6;\n",
              "      --disabled-fill-color: #AAA;\n",
              "      --disabled-bg-color: #DDD;\n",
              "  }\n",
              "\n",
              "  [theme=dark] .colab-df-quickchart {\n",
              "      --bg-color: #3B4455;\n",
              "      --fill-color: #D2E3FC;\n",
              "      --hover-bg-color: #434B5C;\n",
              "      --hover-fill-color: #FFFFFF;\n",
              "      --disabled-bg-color: #3B4455;\n",
              "      --disabled-fill-color: #666;\n",
              "  }\n",
              "\n",
              "  .colab-df-quickchart {\n",
              "    background-color: var(--bg-color);\n",
              "    border: none;\n",
              "    border-radius: 50%;\n",
              "    cursor: pointer;\n",
              "    display: none;\n",
              "    fill: var(--fill-color);\n",
              "    height: 32px;\n",
              "    padding: 0;\n",
              "    width: 32px;\n",
              "  }\n",
              "\n",
              "  .colab-df-quickchart:hover {\n",
              "    background-color: var(--hover-bg-color);\n",
              "    box-shadow: 0 1px 2px rgba(60, 64, 67, 0.3), 0 1px 3px 1px rgba(60, 64, 67, 0.15);\n",
              "    fill: var(--button-hover-fill-color);\n",
              "  }\n",
              "\n",
              "  .colab-df-quickchart-complete:disabled,\n",
              "  .colab-df-quickchart-complete:disabled:hover {\n",
              "    background-color: var(--disabled-bg-color);\n",
              "    fill: var(--disabled-fill-color);\n",
              "    box-shadow: none;\n",
              "  }\n",
              "\n",
              "  .colab-df-spinner {\n",
              "    border: 2px solid var(--fill-color);\n",
              "    border-color: transparent;\n",
              "    border-bottom-color: var(--fill-color);\n",
              "    animation:\n",
              "      spin 1s steps(1) infinite;\n",
              "  }\n",
              "\n",
              "  @keyframes spin {\n",
              "    0% {\n",
              "      border-color: transparent;\n",
              "      border-bottom-color: var(--fill-color);\n",
              "      border-left-color: var(--fill-color);\n",
              "    }\n",
              "    20% {\n",
              "      border-color: transparent;\n",
              "      border-left-color: var(--fill-color);\n",
              "      border-top-color: var(--fill-color);\n",
              "    }\n",
              "    30% {\n",
              "      border-color: transparent;\n",
              "      border-left-color: var(--fill-color);\n",
              "      border-top-color: var(--fill-color);\n",
              "      border-right-color: var(--fill-color);\n",
              "    }\n",
              "    40% {\n",
              "      border-color: transparent;\n",
              "      border-right-color: var(--fill-color);\n",
              "      border-top-color: var(--fill-color);\n",
              "    }\n",
              "    60% {\n",
              "      border-color: transparent;\n",
              "      border-right-color: var(--fill-color);\n",
              "    }\n",
              "    80% {\n",
              "      border-color: transparent;\n",
              "      border-right-color: var(--fill-color);\n",
              "      border-bottom-color: var(--fill-color);\n",
              "    }\n",
              "    90% {\n",
              "      border-color: transparent;\n",
              "      border-bottom-color: var(--fill-color);\n",
              "    }\n",
              "  }\n",
              "</style>\n",
              "\n",
              "  <script>\n",
              "    async function quickchart(key) {\n",
              "      const quickchartButtonEl =\n",
              "        document.querySelector('#' + key + ' button');\n",
              "      quickchartButtonEl.disabled = true;  // To prevent multiple clicks.\n",
              "      quickchartButtonEl.classList.add('colab-df-spinner');\n",
              "      try {\n",
              "        const charts = await google.colab.kernel.invokeFunction(\n",
              "            'suggestCharts', [key], {});\n",
              "      } catch (error) {\n",
              "        console.error('Error during call to suggestCharts:', error);\n",
              "      }\n",
              "      quickchartButtonEl.classList.remove('colab-df-spinner');\n",
              "      quickchartButtonEl.classList.add('colab-df-quickchart-complete');\n",
              "    }\n",
              "    (() => {\n",
              "      let quickchartButtonEl =\n",
              "        document.querySelector('#df-9df8645d-5437-4711-b674-86dada97f68b button');\n",
              "      quickchartButtonEl.style.display =\n",
              "        google.colab.kernel.accessAllowed ? 'block' : 'none';\n",
              "    })();\n",
              "  </script>\n",
              "</div>\n",
              "\n",
              "  <div id=\"id_e6f53d4e-7f93-40db-b8de-c3dec6572e44\">\n",
              "    <style>\n",
              "      .colab-df-generate {\n",
              "        background-color: #E8F0FE;\n",
              "        border: none;\n",
              "        border-radius: 50%;\n",
              "        cursor: pointer;\n",
              "        display: none;\n",
              "        fill: #1967D2;\n",
              "        height: 32px;\n",
              "        padding: 0 0 0 0;\n",
              "        width: 32px;\n",
              "      }\n",
              "\n",
              "      .colab-df-generate:hover {\n",
              "        background-color: #E2EBFA;\n",
              "        box-shadow: 0px 1px 2px rgba(60, 64, 67, 0.3), 0px 1px 3px 1px rgba(60, 64, 67, 0.15);\n",
              "        fill: #174EA6;\n",
              "      }\n",
              "\n",
              "      [theme=dark] .colab-df-generate {\n",
              "        background-color: #3B4455;\n",
              "        fill: #D2E3FC;\n",
              "      }\n",
              "\n",
              "      [theme=dark] .colab-df-generate:hover {\n",
              "        background-color: #434B5C;\n",
              "        box-shadow: 0px 1px 3px 1px rgba(0, 0, 0, 0.15);\n",
              "        filter: drop-shadow(0px 1px 2px rgba(0, 0, 0, 0.3));\n",
              "        fill: #FFFFFF;\n",
              "      }\n",
              "    </style>\n",
              "    <button class=\"colab-df-generate\" onclick=\"generateWithVariable('correlation_by_region')\"\n",
              "            title=\"Generate code using this dataframe.\"\n",
              "            style=\"display:none;\">\n",
              "\n",
              "  <svg xmlns=\"http://www.w3.org/2000/svg\" height=\"24px\"viewBox=\"0 0 24 24\"\n",
              "       width=\"24px\">\n",
              "    <path d=\"M7,19H8.4L18.45,9,17,7.55,7,17.6ZM5,21V16.75L18.45,3.32a2,2,0,0,1,2.83,0l1.4,1.43a1.91,1.91,0,0,1,.58,1.4,1.91,1.91,0,0,1-.58,1.4L9.25,21ZM18.45,9,17,7.55Zm-12,3A5.31,5.31,0,0,0,4.9,8.1,5.31,5.31,0,0,0,1,6.5,5.31,5.31,0,0,0,4.9,4.9,5.31,5.31,0,0,0,6.5,1,5.31,5.31,0,0,0,8.1,4.9,5.31,5.31,0,0,0,12,6.5,5.46,5.46,0,0,0,6.5,12Z\"/>\n",
              "  </svg>\n",
              "    </button>\n",
              "    <script>\n",
              "      (() => {\n",
              "      const buttonEl =\n",
              "        document.querySelector('#id_e6f53d4e-7f93-40db-b8de-c3dec6572e44 button.colab-df-generate');\n",
              "      buttonEl.style.display =\n",
              "        google.colab.kernel.accessAllowed ? 'block' : 'none';\n",
              "\n",
              "      buttonEl.onclick = () => {\n",
              "        google.colab.notebook.generateWithVariable('correlation_by_region');\n",
              "      }\n",
              "      })();\n",
              "    </script>\n",
              "  </div>\n",
              "\n",
              "    </div>\n",
              "  </div>\n"
            ],
            "application/vnd.google.colaboratory.intrinsic+json": {
              "type": "dataframe",
              "variable_name": "correlation_by_region",
              "summary": "{\n  \"name\": \"correlation_by_region\",\n  \"rows\": 22,\n  \"fields\": [\n    {\n      \"column\": \"region\",\n      \"properties\": {\n        \"dtype\": \"string\",\n        \"num_unique_values\": 22,\n        \"samples\": [\n          \"Basse-Normandie\",\n          \"\\u00cele-de-France\",\n          \"Nord-Pas-de-Calais\"\n        ],\n        \"semantic_type\": \"\",\n        \"description\": \"\"\n      }\n    },\n    {\n      \"column\": \"correlation\",\n      \"properties\": {\n        \"dtype\": \"number\",\n        \"std\": 0.405469389865506,\n        \"min\": -0.7420299039883297,\n        \"max\": 0.8260627676006183,\n        \"num_unique_values\": 22,\n        \"samples\": [\n          0.8260627676006183,\n          0.03491221991673357,\n          0.25827228846028977\n        ],\n        \"semantic_type\": \"\",\n        \"description\": \"\"\n      }\n    }\n  ]\n}"
            }
          },
          "metadata": {},
          "execution_count": 105
        }
      ]
    }
  ]
}